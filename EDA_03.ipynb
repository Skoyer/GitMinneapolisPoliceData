{
 "cells": [
  {
   "cell_type": "markdown",
   "metadata": {},
   "source": [
    "[Watch the YouTube Video](https://www.youtube.com/watch?v=8z5jsznoB0A) <p>\n",
    "\n",
    "![Description of the graphic](graphic.jpg) <p>\n",
    "[All Data availible here](https://opendata.minneapolismn.gov/)\n"
   ]
  },
  {
   "cell_type": "markdown",
   "metadata": {},
   "source": [
    "## Description\n",
    "\n",
    "This notebook will analyze the crime data to determine whether there was any period before April 28, 2023, where the homicide rate decreased by 43%. We will compare homicide data across different time intervals, using a combination of data visualization and statistical methods to identify any significant reductions in the rate. The analysis will focus on grouping relevant data and calculating percentage changes to verify the accuracy of the claim.\n"
   ]
  },
  {
   "cell_type": "code",
   "execution_count": 15,
   "metadata": {},
   "outputs": [],
   "source": [
    "import pandas as pd\n",
    "import plotly.express as px\n",
    "\n",
    "# Step 1: Load the data\n",
    "df_2022 = pd.read_csv('Police_Incidents_2022.csv')\n",
    "df_2023 = pd.read_csv('Police_Incidents_2023.csv')"
   ]
  },
  {
   "cell_type": "code",
   "execution_count": 16,
   "metadata": {},
   "outputs": [
    {
     "name": "stdout",
     "output_type": "stream",
     "text": [
      "['1ST DEG DOMES ASLT', '2ND DEG DOMES ASLT', '3RD DEG DOMES ASLT', 'ACCESS/ALTER SYSTEM/NETWORK', 'ADULTERATION - HARM/ILLNESS', 'ADULTERATION - NO HARM', 'ARSON', 'ARSON-1ST DEGREE', 'ARSON-3RD DEGREE', 'ARSON-4TH DEGREE', 'ASLT-GREAT BODILY HM', 'ASLT-SGNFCNT BDLY HM', 'ASLT4-LESS THAN SUBST HARM', 'ASLT4-SUBST HARM OR WEAPON', 'ASSLT W/DNGRS WEAPON', 'AUTOMOBILE THEFT', 'BIKE THEFT', 'BURGLARY OF BUSINESS', 'BURGLARY OF DWELLING', 'CSC - PENETRATE WITH OBJECT', 'CSC - RAPE', 'CSC - SODOMY', 'DISARM A POLICE OFFICER', 'DOMESTIC ASSAULT/STRANGULATION', 'FAIL TO PAY - TAXI/HOTEL/REST', 'GAS STATION DRIV-OFF', 'HACKING - THEFT OF SERVICE', 'JUSTIFIABLE HOMICIDE', 'MURDER (GENERAL)', 'OBS - COMPUTER HACKING', 'OBS - PETTY THEFT', 'ONLINE THEFT', 'OTHER THEFT', 'OTHER VEHICLE THEFT', 'POCKET-PICKING', 'RAPE - VULNERABLE ADULT', 'ROBBERY INCLUDING AUTO THEFT', 'ROBBERY OF BUSINESS', 'ROBBERY OF PERSON', 'ROBBERY PER AGG', 'ROOFIE / DRUGS TO COMMIT CRIME', 'SCRAPPING-RECYCLING THEFT', 'SEX ASSAULT OBJECT- VLN ADULT', 'SHOPLIFTING', 'THEFT BY SWINDLE', 'THEFT FROM BUILDING', 'THEFT FROM MOTR VEHC', 'THEFT FROM PERSON SNATCH/GRAB', 'THEFT-MOTR VEH PARTS', 'THEFT/COINOP DEVICE', 'TRESPASSED - BURG BUISINESS']\n"
     ]
    }
   ],
   "source": [
    "# This was useful to get a list of unique descriptions\n",
    "unique_descriptions = sorted(df_2022['description'].unique())\n",
    "print(unique_descriptions)\n"
   ]
  },
  {
   "cell_type": "code",
   "execution_count": 17,
   "metadata": {},
   "outputs": [
    {
     "name": "stdout",
     "output_type": "stream",
     "text": [
      "                       description\n",
      "0                      OTHER THEFT\n",
      "1             THEFT-MOTR VEH PARTS\n",
      "2             THEFT FROM MOTR VEHC\n",
      "3                       BIKE THEFT\n",
      "4                      SHOPLIFTING\n",
      "5             BURGLARY OF DWELLING\n",
      "6                 THEFT BY SWINDLE\n",
      "7             BURGLARY OF BUSINESS\n",
      "8                ROBBERY OF PERSON\n",
      "9                 AUTOMOBILE THEFT\n",
      "10             THEFT FROM BUILDING\n",
      "11                    ONLINE THEFT\n",
      "12                 ROBBERY PER AGG\n",
      "13   FAIL TO PAY - TAXI/HOTEL/REST\n",
      "14             ROBBERY OF BUSINESS\n",
      "15            ASSLT W/DNGRS WEAPON\n",
      "16                      CSC - RAPE\n",
      "17              2ND DEG DOMES ASLT\n",
      "18    ROBBERY INCLUDING AUTO THEFT\n",
      "19              3RD DEG DOMES ASLT\n",
      "20            ASLT-SGNFCNT BDLY HM\n",
      "21  DOMESTIC ASSAULT/STRANGULATION\n",
      "22   THEFT FROM PERSON SNATCH/GRAB\n",
      "23     TRESPASSED - BURG BUISINESS\n",
      "24                MURDER (GENERAL)\n",
      "25      ASLT4-LESS THAN SUBST HARM\n",
      "26                           ARSON\n",
      "27                    CSC - SODOMY\n",
      "28            ASLT-GREAT BODILY HM\n",
      "29          ADULTERATION - NO HARM\n",
      "30     CSC - PENETRATE WITH OBJECT\n",
      "31     ADULTERATION - HARM/ILLNESS\n",
      "32  ROOFIE / DRUGS TO COMMIT CRIME\n",
      "33             OTHER VEHICLE THEFT\n",
      "34         DISARM A POLICE OFFICER\n",
      "35      HACKING - THEFT OF SERVICE\n",
      "36            JUSTIFIABLE HOMICIDE\n",
      "37               OBS - PETTY THEFT\n",
      "38            GAS STATION DRIV-OFF\n",
      "39       SCRAPPING-RECYCLING THEFT\n",
      "40             THEFT/COINOP DEVICE\n",
      "41     ACCESS/ALTER SYSTEM/NETWORK\n",
      "42                ARSON-3RD DEGREE\n",
      "43      ASLT4-SUBST HARM OR WEAPON\n",
      "44          OBS - COMPUTER HACKING\n",
      "45              1ST DEG DOMES ASLT\n",
      "46                  POCKET-PICKING\n",
      "47                ARSON-4TH DEGREE\n",
      "48   SEX ASSAULT OBJECT- VLN ADULT\n",
      "49                ARSON-1ST DEGREE\n",
      "50         RAPE - VULNERABLE ADULT\n"
     ]
    }
   ],
   "source": [
    "# This did a good job sorting the descriptions\n",
    "unique_descriptions_2022 = pd.DataFrame(df_2022['description'].unique(), columns=['description'])\n",
    "print(unique_descriptions_2022)\n"
   ]
  },
  {
   "cell_type": "code",
   "execution_count": 19,
   "metadata": {},
   "outputs": [
    {
     "name": "stdout",
     "output_type": "stream",
     "text": [
      "      reportedDate  DayOfYear\n",
      "0       2022-06-28        179\n",
      "1       2022-06-28        179\n",
      "2       2022-06-28        179\n",
      "3       2022-06-28        179\n",
      "4       2022-06-28        179\n",
      "...            ...        ...\n",
      "26521   2022-11-01        305\n",
      "26522   2022-11-01        305\n",
      "26523   2022-11-01        305\n",
      "26524   2022-11-01        305\n",
      "26525   2022-11-01        305\n",
      "\n",
      "[26526 rows x 2 columns]\n",
      "                   reportedDate  DayOfYear\n",
      "0     2023-02-03 00:00:00+00:00         34\n",
      "1     2023-02-13 00:00:00+00:00         44\n",
      "2     2023-02-15 00:00:00+00:00         46\n",
      "3     2023-02-28 00:00:00+00:00         59\n",
      "4     2023-02-27 00:00:00+00:00         58\n",
      "...                         ...        ...\n",
      "26008 2023-12-27 00:00:00+00:00        361\n",
      "26009 2023-12-27 00:00:00+00:00        361\n",
      "26010 2023-12-27 00:00:00+00:00        361\n",
      "26011 2023-12-27 00:00:00+00:00        361\n",
      "26012 2023-10-22 00:00:00+00:00        295\n",
      "\n",
      "[26013 rows x 2 columns]\n"
     ]
    },
    {
     "name": "stderr",
     "output_type": "stream",
     "text": [
      "C:\\Users\\larso\\AppData\\Local\\Temp\\ipykernel_33484\\3247414127.py:2: UserWarning: Could not infer format, so each element will be parsed individually, falling back to `dateutil`. To ensure parsing is consistent and as-expected, please specify a format.\n",
      "  df_2022['reportedDate'] = pd.to_datetime(df_2022['reportedDate'], errors='coerce')\n"
     ]
    }
   ],
   "source": [
    "# Let Pandas infer the date format automatically\n",
    "df_2022['reportedDate'] = pd.to_datetime(df_2022['reportedDate'], errors='coerce')\n",
    "df_2023['reportedDate'] = pd.to_datetime(df_2023['reportedDate'], errors='coerce')\n",
    "\n",
    "# Add a new column \"DayOfYear\" based on the reportedDate column\n",
    "df_2022['DayOfYear'] = df_2022['reportedDate'].dt.dayofyear\n",
    "df_2023['DayOfYear'] = df_2023['reportedDate'].dt.dayofyear\n",
    "\n",
    "# Display the updated DataFrames with 'DayOfYear'\n",
    "print(df_2022[['reportedDate', 'DayOfYear']])\n",
    "print(df_2023[['reportedDate', 'DayOfYear']])\n"
   ]
  },
  {
   "cell_type": "markdown",
   "metadata": {},
   "source": [
    "# This was the deprecated code\n",
    "\n",
    "``` python\n",
    "# Define the end date for filtering\n",
    "end_date = '2022-04-28'\n",
    "\n",
    "# Filter both DataFrames for 'MURDER (GENERAL)' and 'JUSTIFIABLE HOMICIDE', and reportedDate before April 28\n",
    "filtered_df_2022 = df_2022[\n",
    "    (df_2022['description'].isin(['MURDER (GENERAL)', 'JUSTIFIABLE HOMICIDE'])) &\n",
    "    (df_2022['reportedDate'] <= end_date)\n",
    "]\n",
    "\n",
    "# Do the same for df_2023 with the corresponding end date for 2023\n",
    "end_date_2023 = '2023-04-28'\n",
    "filtered_df_2023 = df_2023[\n",
    "    (df_2023['description'].isin(['MURDER (GENERAL)', 'JUSTIFIABLE HOMICIDE'])) &\n",
    "    (df_2023['reportedDate'] <= end_date_2023)\n",
    "]\n",
    "\n",
    "# Add the \"DayOfYear\" column to both filtered DataFrames\n",
    "filtered_df_2022['DayOfYear'] = filtered_df_2022['reportedDate'].dt.dayofyear\n",
    "filtered_df_2023['DayOfYear'] = filtered_df_2023['reportedDate'].dt.dayofyear\n",
    "\n",
    "# Display the filtered DataFrames with the \"DayOfYear\" column\n",
    "print(filtered_df_2022[['reportedDate', 'description', 'DayOfYear']])\n",
    "print(filtered_df_2023[['reportedDate', 'description', 'DayOfYear']])\n"
   ]
  },
  {
   "cell_type": "code",
   "execution_count": 21,
   "metadata": {},
   "outputs": [
    {
     "name": "stdout",
     "output_type": "stream",
     "text": [
      "      reportedDate           description  DayOfYear\n",
      "3040    2022-04-07      MURDER (GENERAL)         97\n",
      "3083    2022-04-07      MURDER (GENERAL)         97\n",
      "3441    2022-04-16      MURDER (GENERAL)        106\n",
      "3497    2022-04-17      MURDER (GENERAL)        107\n",
      "3662    2022-04-20      MURDER (GENERAL)        110\n",
      "3723    2022-04-22      MURDER (GENERAL)        112\n",
      "3785    2022-04-23      MURDER (GENERAL)        113\n",
      "3819    2022-04-24      MURDER (GENERAL)        114\n",
      "3823    2022-04-24      MURDER (GENERAL)        114\n",
      "4025    2022-04-27      MURDER (GENERAL)        117\n",
      "4084    2022-01-14      MURDER (GENERAL)         14\n",
      "9806    2022-02-27  JUSTIFIABLE HOMICIDE         58\n",
      "10272   2022-02-02  JUSTIFIABLE HOMICIDE         33\n",
      "12938   2022-01-20      MURDER (GENERAL)         20\n",
      "19557   2022-02-05      MURDER (GENERAL)         36\n",
      "19789   2022-02-09      MURDER (GENERAL)         40\n",
      "19861   2022-02-10      MURDER (GENERAL)         41\n",
      "20122   2022-02-16      MURDER (GENERAL)         47\n",
      "20437   2022-02-22      MURDER (GENERAL)         53\n",
      "20604   2022-02-28      MURDER (GENERAL)         59\n",
      "20901   2022-03-06      MURDER (GENERAL)         65\n",
      "20949   2022-03-07      MURDER (GENERAL)         66\n",
      "21443   2022-03-18      MURDER (GENERAL)         77\n",
      "21457   2022-01-08      MURDER (GENERAL)          8\n",
      "21803   2022-03-25      MURDER (GENERAL)         84\n",
      "21930   2022-03-28      MURDER (GENERAL)         87\n",
      "21932   2022-03-28      MURDER (GENERAL)         87\n",
      "22165   2022-04-02      MURDER (GENERAL)         92\n",
      "                   reportedDate       description  DayOfYear\n",
      "727   2023-04-27 00:00:00+00:00  MURDER (GENERAL)        117\n",
      "1221  2023-02-21 00:00:00+00:00  MURDER (GENERAL)         52\n",
      "3601  2023-01-01 00:00:00+00:00  MURDER (GENERAL)          1\n",
      "3756  2023-01-25 00:00:00+00:00  MURDER (GENERAL)         25\n",
      "5071  2023-03-17 00:00:00+00:00  MURDER (GENERAL)         76\n",
      "5344  2023-04-18 00:00:00+00:00  MURDER (GENERAL)        108\n",
      "6147  2023-02-18 00:00:00+00:00  MURDER (GENERAL)         49\n",
      "7134  2023-04-27 00:00:00+00:00  MURDER (GENERAL)        117\n",
      "10492 2023-02-15 00:00:00+00:00  MURDER (GENERAL)         46\n",
      "11781 2023-04-09 00:00:00+00:00  MURDER (GENERAL)         99\n",
      "11844 2023-01-11 00:00:00+00:00  MURDER (GENERAL)         11\n",
      "11857 2023-01-12 00:00:00+00:00  MURDER (GENERAL)         12\n",
      "14401 2023-02-06 00:00:00+00:00  MURDER (GENERAL)         37\n",
      "14809 2023-03-04 00:00:00+00:00  MURDER (GENERAL)         63\n",
      "16629 2023-01-13 00:00:00+00:00  MURDER (GENERAL)         13\n",
      "18378 2023-04-03 00:00:00+00:00  MURDER (GENERAL)         93\n",
      "21249 2023-02-16 00:00:00+00:00  MURDER (GENERAL)         47\n"
     ]
    }
   ],
   "source": [
    "# Define the end date for filtering\n",
    "end_date = '2022-04-28'\n",
    "\n",
    "# Filter both DataFrames for 'MURDER (GENERAL)' and 'JUSTIFIABLE HOMICIDE', and reportedDate before April 28\n",
    "filtered_df_2022 = df_2022[\n",
    "    (df_2022['description'].isin(['MURDER (GENERAL)', 'JUSTIFIABLE HOMICIDE'])) &\n",
    "    (df_2022['reportedDate'] <= end_date)\n",
    "]\n",
    "\n",
    "# Do the same for df_2023 with the corresponding end date for 2023\n",
    "end_date_2023 = '2023-04-28'\n",
    "filtered_df_2023 = df_2023[\n",
    "    (df_2023['description'].isin(['MURDER (GENERAL)', 'JUSTIFIABLE HOMICIDE'])) &\n",
    "    (df_2023['reportedDate'] <= end_date_2023)\n",
    "]\n",
    "\n",
    "# Add the \"DayOfYear\" column using .loc to avoid the SettingWithCopyWarning\n",
    "filtered_df_2022.loc[:, 'DayOfYear'] = filtered_df_2022['reportedDate'].dt.dayofyear\n",
    "filtered_df_2023.loc[:, 'DayOfYear'] = filtered_df_2023['reportedDate'].dt.dayofyear\n",
    "\n",
    "# Display the filtered DataFrames with the \"DayOfYear\" column\n",
    "print(filtered_df_2022[['reportedDate', 'description', 'DayOfYear']])\n",
    "print(filtered_df_2023[['reportedDate', 'description', 'DayOfYear']])\n"
   ]
  },
  {
   "cell_type": "code",
   "execution_count": 23,
   "metadata": {},
   "outputs": [
    {
     "name": "stdout",
     "output_type": "stream",
     "text": [
      "<class 'pandas.core.frame.DataFrame'>\n",
      "Index: 28 entries, 3040 to 22165\n",
      "Data columns (total 24 columns):\n",
      " #   Column             Non-Null Count  Dtype         \n",
      "---  ------             --------------  -----         \n",
      " 0   publicaddress      28 non-null     object        \n",
      " 1   caseNumber         28 non-null     object        \n",
      " 2   precinct           28 non-null     object        \n",
      " 3   reportedDate       28 non-null     datetime64[ns]\n",
      " 4   reportedTime       28 non-null     int64         \n",
      " 5   beginDate          28 non-null     object        \n",
      " 6   reportedDateTime   28 non-null     object        \n",
      " 7   beginTime          28 non-null     int64         \n",
      " 8   offense            28 non-null     object        \n",
      " 9   description        28 non-null     object        \n",
      " 10  UCRCode            28 non-null     float64       \n",
      " 11  enteredDate        28 non-null     object        \n",
      " 12  centergbsid        0 non-null      float64       \n",
      " 13  centerLong         28 non-null     float64       \n",
      " 14  centerLat          28 non-null     float64       \n",
      " 15  centerX            28 non-null     float64       \n",
      " 16  centerY            28 non-null     float64       \n",
      " 17  neighborhood       28 non-null     object        \n",
      " 18  lastchanged        28 non-null     object        \n",
      " 19  LastUpdateDateETL  28 non-null     object        \n",
      " 20  OBJECTID           28 non-null     int64         \n",
      " 21  x                  28 non-null     float64       \n",
      " 22  y                  28 non-null     float64       \n",
      " 23  DayOfYear          28 non-null     int32         \n",
      "dtypes: datetime64[ns](1), float64(8), int32(1), int64(3), object(11)\n",
      "memory usage: 5.4+ KB\n",
      "<class 'pandas.core.frame.DataFrame'>\n",
      "Index: 17 entries, 727 to 21249\n",
      "Data columns (total 24 columns):\n",
      " #   Column             Non-Null Count  Dtype              \n",
      "---  ------             --------------  -----              \n",
      " 0   X                  17 non-null     float64            \n",
      " 1   Y                  17 non-null     float64            \n",
      " 2   publicaddress      17 non-null     object             \n",
      " 3   caseNumber         17 non-null     object             \n",
      " 4   precinct           17 non-null     object             \n",
      " 5   reportedDate       17 non-null     datetime64[ns, UTC]\n",
      " 6   reportedTime       17 non-null     int64              \n",
      " 7   beginDate          17 non-null     object             \n",
      " 8   reportedDateTime   17 non-null     object             \n",
      " 9   beginTime          17 non-null     int64              \n",
      " 10  offense            17 non-null     object             \n",
      " 11  description        17 non-null     object             \n",
      " 12  UCRCode            17 non-null     float64            \n",
      " 13  enteredDate        17 non-null     object             \n",
      " 14  centergbsid        0 non-null      float64            \n",
      " 15  centerLong         17 non-null     float64            \n",
      " 16  centerLat          17 non-null     float64            \n",
      " 17  centerX            17 non-null     float64            \n",
      " 18  centerY            17 non-null     float64            \n",
      " 19  neighborhood       17 non-null     object             \n",
      " 20  lastchanged        17 non-null     object             \n",
      " 21  LastUpdateDateETL  17 non-null     object             \n",
      " 22  OBJECTID           17 non-null     int64              \n",
      " 23  DayOfYear          17 non-null     int32              \n",
      "dtypes: datetime64[ns, UTC](1), float64(8), int32(1), int64(3), object(11)\n",
      "memory usage: 3.3+ KB\n"
     ]
    }
   ],
   "source": [
    "filtered_df_2022.info()\n",
    "filtered_df_2023.info()"
   ]
  },
  {
   "cell_type": "code",
   "execution_count": null,
   "metadata": {},
   "outputs": [],
   "source": []
  },
  {
   "cell_type": "code",
   "execution_count": null,
   "metadata": {},
   "outputs": [],
   "source": []
  },
  {
   "cell_type": "code",
   "execution_count": null,
   "metadata": {},
   "outputs": [],
   "source": []
  }
 ],
 "metadata": {
  "kernelspec": {
   "display_name": "dsci",
   "language": "python",
   "name": "python3"
  },
  "language_info": {
   "codemirror_mode": {
    "name": "ipython",
    "version": 3
   },
   "file_extension": ".py",
   "mimetype": "text/x-python",
   "name": "python",
   "nbconvert_exporter": "python",
   "pygments_lexer": "ipython3",
   "version": "3.11.9"
  }
 },
 "nbformat": 4,
 "nbformat_minor": 2
}
