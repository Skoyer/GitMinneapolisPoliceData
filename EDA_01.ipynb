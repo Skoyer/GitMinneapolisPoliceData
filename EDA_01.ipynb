{
 "cells": [
  {
   "cell_type": "code",
   "execution_count": null,
   "metadata": {},
   "outputs": [],
   "source": [
    "import pandas as pd\n",
    "\n",
    "# Sample data as a string (you would replace this with your actual data or read from a file)\n",
    "data = \"\"\"PublicAddress,ControlNbr,CCN,Precinct,ReportedDate,BeginDate,Time,Offense,Description,UCRCode,EnteredDate,GBSID,Lat,Long,X,Y,Neighborhood,LastChanged,LastUpdateDate,ESRI_OID,x2,y2\n",
    "0021XX Broadway AV W,3363209,MP 2014 457317,04,1/1/2015 12:05:00 AM,12/31/2014 8:10:00 PM,20:10:00,AUTOTH,Motor Vehicle Theft,08,1/1/2015 12:05:21\"\"\"\n",
    "\n",
    "# Create DataFrame\n",
    "df = pd.read_csv(pd.compat.StringIO(data))\n",
    "\n",
    "# Display the DataFrame\n",
    "print(df)\n",
    "\n",
    "# If you have this data in a CSV file, you can use:\n",
    "# df = pd.read_csv('path_to_your_file.csv')"
   ]
  }
 ],
 "metadata": {
  "kernelspec": {
   "display_name": "dsci",
   "language": "python",
   "name": "python3"
  },
  "language_info": {
   "name": "python",
   "version": "3.11.9"
  }
 },
 "nbformat": 4,
 "nbformat_minor": 2
}
