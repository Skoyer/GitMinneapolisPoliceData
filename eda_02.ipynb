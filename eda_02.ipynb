{
 "cells": [
  {
   "cell_type": "markdown",
   "metadata": {},
   "source": [
    "[Watch the YouTube Video](https://www.youtube.com/watch?v=8z5jsznoB0A) <p>\n",
    "\n",
    "![Description of the graphic](graphic.jpg)\n"
   ]
  },
  {
   "cell_type": "code",
   "execution_count": 30,
   "metadata": {},
   "outputs": [],
   "source": [
    "import pandas as pd\n",
    "import plotly.express as px\n",
    "\n",
    "# Step 1: Load the data\n",
    "df_2022 = pd.read_csv('Police_Incidents_2022.csv')\n",
    "df_2023 = pd.read_csv('Police_Incidents_2023.csv')\n",
    "\n"
   ]
  },
  {
   "cell_type": "code",
   "execution_count": 31,
   "metadata": {},
   "outputs": [
    {
     "name": "stdout",
     "output_type": "stream",
     "text": [
      "<class 'pandas.core.frame.DataFrame'>\n",
      "RangeIndex: 26526 entries, 0 to 26525\n",
      "Data columns (total 23 columns):\n",
      " #   Column             Non-Null Count  Dtype  \n",
      "---  ------             --------------  -----  \n",
      " 0   publicaddress      26526 non-null  object \n",
      " 1   caseNumber         26526 non-null  object \n",
      " 2   precinct           26526 non-null  object \n",
      " 3   reportedDate       26526 non-null  object \n",
      " 4   reportedTime       26526 non-null  int64  \n",
      " 5   beginDate          26526 non-null  object \n",
      " 6   reportedDateTime   26526 non-null  object \n",
      " 7   beginTime          26526 non-null  int64  \n",
      " 8   offense            26526 non-null  object \n",
      " 9   description        26526 non-null  object \n",
      " 10  UCRCode            25992 non-null  float64\n",
      " 11  enteredDate        26526 non-null  object \n",
      " 12  centergbsid        0 non-null      float64\n",
      " 13  centerLong         26526 non-null  float64\n",
      " 14  centerLat          26526 non-null  float64\n",
      " 15  centerX            26526 non-null  float64\n",
      " 16  centerY            26526 non-null  float64\n",
      " 17  neighborhood       26484 non-null  object \n",
      " 18  lastchanged        26526 non-null  object \n",
      " 19  LastUpdateDateETL  26526 non-null  object \n",
      " 20  OBJECTID           26526 non-null  int64  \n",
      " 21  x                  26526 non-null  float64\n",
      " 22  y                  26526 non-null  float64\n",
      "dtypes: float64(8), int64(3), object(12)\n",
      "memory usage: 4.7+ MB\n",
      "None\n",
      "<class 'pandas.core.frame.DataFrame'>\n",
      "RangeIndex: 26013 entries, 0 to 26012\n",
      "Data columns (total 23 columns):\n",
      " #   Column             Non-Null Count  Dtype  \n",
      "---  ------             --------------  -----  \n",
      " 0   X                  26013 non-null  float64\n",
      " 1   Y                  26013 non-null  float64\n",
      " 2   publicaddress      26013 non-null  object \n",
      " 3   caseNumber         26013 non-null  object \n",
      " 4   precinct           26013 non-null  object \n",
      " 5   reportedDate       26013 non-null  object \n",
      " 6   reportedTime       26013 non-null  int64  \n",
      " 7   beginDate          26013 non-null  object \n",
      " 8   reportedDateTime   26013 non-null  object \n",
      " 9   beginTime          26013 non-null  int64  \n",
      " 10  offense            26013 non-null  object \n",
      " 11  description        26013 non-null  object \n",
      " 12  UCRCode            25689 non-null  float64\n",
      " 13  enteredDate        26013 non-null  object \n",
      " 14  centergbsid        0 non-null      float64\n",
      " 15  centerLong         26013 non-null  float64\n",
      " 16  centerLat          26013 non-null  float64\n",
      " 17  centerX            26013 non-null  float64\n",
      " 18  centerY            26013 non-null  float64\n",
      " 19  neighborhood       25993 non-null  object \n",
      " 20  lastchanged        26013 non-null  object \n",
      " 21  LastUpdateDateETL  26013 non-null  object \n",
      " 22  OBJECTID           26013 non-null  int64  \n",
      "dtypes: float64(8), int64(3), object(12)\n",
      "memory usage: 4.6+ MB\n",
      "None\n"
     ]
    }
   ],
   "source": [
    "# Step 2: Data cleaning (this is a basic check)\n",
    "print(df_2022.info())\n",
    "print(df_2023.info())"
   ]
  },
  {
   "cell_type": "code",
   "execution_count": 32,
   "metadata": {},
   "outputs": [
    {
     "name": "stdout",
     "output_type": "stream",
     "text": [
      "Distinct offenses in 2022:\n",
      "['THEFT' 'TMVP' 'TFMV' 'BIKETF' 'SHOPLF' 'BURGD' 'THFTSW' 'BURGB' 'ROBPER'\n",
      " 'AUTOTH' 'TBLDG' 'ONLTHT' 'ROBPAG' 'WLKOFF' 'ROBBIZ' 'ASLT2' 'CSCR'\n",
      " 'DASLT2' 'CARJCK' 'DASLT3' 'ASLT3' 'DASTR' 'TFPER' 'MURDR' 'ASLT4'\n",
      " 'ARSON' 'ASLT1' 'ADLTTN' 'MVTHFT' 'DISARM' 'COMPUT' 'JHOMIC' 'PETIT'\n",
      " 'NOPAY' 'SCRAP' 'COINOP' 'DASLT1' 'POCKET' 'ABSVAR']\n",
      "\n",
      "Distinct offenses in 2023:\n",
      "['CSCR' 'CARJCK' 'AUTOTH' 'THEFT' 'BURGD' 'TFMV' 'TMVP' 'ARSON' 'BURGB'\n",
      " 'SHOPLF' 'DASLT3' 'ROBPAG' 'ASLT2' 'DASTR' 'ROBPER' 'ASLT4' 'TBLDG'\n",
      " 'THFTSW' 'TFPER' 'DASLT2' 'BIKETF' 'ASLT3' 'ROBBIZ' 'ADLTTN' 'MURDR'\n",
      " 'WLKOFF' 'ONLTHT' 'PETIT' 'MVTHFT' 'COINOP' 'ASLT1' 'COMPUT' 'SCRAP'\n",
      " 'POCKET' 'DISARM' 'DASLT1' 'NOPAY' 'JHOMIC' 'ABSVAR']\n"
     ]
    }
   ],
   "source": [
    "# Distinct list of offenses in 2022 data\n",
    "offenses_2022 = df_2022['offense'].unique()\n",
    "print(\"Distinct offenses in 2022:\")\n",
    "print(offenses_2022)\n",
    "\n",
    "# Distinct list of offenses in 2023 data\n",
    "offenses_2023 = df_2023['offense'].unique()\n",
    "print(\"\\nDistinct offenses in 2023:\")\n",
    "print(offenses_2023)\n"
   ]
  },
  {
   "cell_type": "code",
   "execution_count": 33,
   "metadata": {},
   "outputs": [
    {
     "name": "stdout",
     "output_type": "stream",
     "text": [
      "2022 Crime Category Counts:\n",
      "Crime_Category\n",
      "Non-Violent    21914\n",
      "Violent         4610\n",
      "Other              2\n",
      "Name: count, dtype: int64\n",
      "2023 Crime Category Counts:\n",
      "Crime_Category\n",
      "Non-Violent    21768\n",
      "Violent         4244\n",
      "Other              1\n",
      "Name: count, dtype: int64\n"
     ]
    }
   ],
   "source": [
    "# Updated violent and non-violent classification based on formal law enforcement categories\n",
    "violent_crimes = ['ASLT1', 'ASLT2', 'ASLT3', 'ASLT4', 'DASLT1', 'DASLT2', 'DASLT3', 'DASTR', 'CARJCK', \n",
    "                  'ROBPER', 'ROBBIZ', 'ROBPAG', 'MURDR', 'JHOMIC', 'CSCR', 'ADLTTN']\n",
    "non_violent_crimes = ['THEFT', 'TFMV', 'TMVP', 'BIKETF', 'SHOPLF', 'THFTSW', 'ONLTHT', 'TBLDG', 'AUTOTH', \n",
    "                      'TFPER', 'MVTHFT', 'WLKOFF', 'BURGD', 'BURGB', 'ARSON', 'COMPUT', 'SCRAP', 'COINOP', \n",
    "                      'POCKET', 'NOPAY', 'DISARM', 'PETIT']\n",
    "\n",
    "# Function to classify based on new categories\n",
    "def categorize_crime(offense):\n",
    "    if offense in violent_crimes:\n",
    "        return 'Violent'\n",
    "    elif offense in non_violent_crimes:\n",
    "        return 'Non-Violent'\n",
    "    else:\n",
    "        return 'Other'\n",
    "\n",
    "# Apply classification to both datasets\n",
    "df_2022['Crime_Category'] = df_2022['offense'].apply(categorize_crime)\n",
    "df_2023['Crime_Category'] = df_2023['offense'].apply(categorize_crime)\n",
    "\n",
    "# Check classification counts\n",
    "print(\"2022 Crime Category Counts:\")\n",
    "print(df_2022['Crime_Category'].value_counts())\n",
    "\n",
    "print(\"2023 Crime Category Counts:\")\n",
    "print(df_2023['Crime_Category'].value_counts())\n"
   ]
  },
  {
   "cell_type": "code",
   "execution_count": 34,
   "metadata": {},
   "outputs": [
    {
     "name": "stdout",
     "output_type": "stream",
     "text": [
      "2022 Crime Category Counts (Updated):\n",
      "Crime_Category\n",
      "Non-Violent    21914\n",
      "Violent         4612\n",
      "Name: count, dtype: int64\n",
      "2023 Crime Category Counts (Updated):\n",
      "Crime_Category\n",
      "Non-Violent    21768\n",
      "Violent         4245\n",
      "Name: count, dtype: int64\n"
     ]
    }
   ],
   "source": [
    "# Updated violent crimes list to include ABSVAR\n",
    "violent_crimes = ['ASLT1', 'ASLT2', 'ASLT3', 'ASLT4', 'DASLT1', 'DASLT2', 'DASLT3', 'DASTR', 'CARJCK', \n",
    "                  'ROBPER', 'ROBBIZ', 'ROBPAG', 'MURDR', 'JHOMIC', 'CSCR', 'ADLTTN', 'ABSVAR']\n",
    "\n",
    "non_violent_crimes = ['THEFT', 'TFMV', 'TMVP', 'BIKETF', 'SHOPLF', 'THFTSW', 'ONLTHT', 'TBLDG', 'AUTOTH', \n",
    "                      'TFPER', 'MVTHFT', 'WLKOFF', 'BURGD', 'BURGB', 'ARSON', 'COMPUT', 'SCRAP', 'COINOP', \n",
    "                      'POCKET', 'NOPAY', 'DISARM', 'PETIT']\n",
    "\n",
    "# Function to classify based on updated categories\n",
    "def categorize_crime(offense):\n",
    "    if offense in violent_crimes:\n",
    "        return 'Violent'\n",
    "    elif offense in non_violent_crimes:\n",
    "        return 'Non-Violent'\n",
    "    else:\n",
    "        return 'Other'\n",
    "\n",
    "# Apply the updated classification function again\n",
    "df_2022['Crime_Category'] = df_2022['offense'].apply(categorize_crime)\n",
    "df_2023['Crime_Category'] = df_2023['offense'].apply(categorize_crime)\n",
    "\n",
    "# Check the updated counts to verify the change\n",
    "print(\"2022 Crime Category Counts (Updated):\")\n",
    "print(df_2022['Crime_Category'].value_counts())\n",
    "\n",
    "print(\"2023 Crime Category Counts (Updated):\")\n",
    "print(df_2023['Crime_Category'].value_counts())\n"
   ]
  },
  {
   "cell_type": "markdown",
   "metadata": {},
   "source": [
    "```python\n",
    "# I made this markdown, but used it to determine all \"other\" categories from above and correctly characterize them.\n",
    "\n",
    "# Investigate the 'Other' category in 2022\n",
    "other_2022 = df_2022[df_2022['Crime_Category'] == 'Other']\n",
    "print(\"Offenses classified as 'Other' in 2022:\")\n",
    "print(other_2022[['caseNumber', 'offense', 'description']])\n",
    "\n",
    "# Investigate the 'Other' category in 2023\n",
    "other_2023 = df_2023[df_2023['Crime_Category'] == 'Other']\n",
    "print(\"\\nOffenses classified as 'Other' in 2023:\")\n",
    "print(other_2023[['caseNumber', 'offense', 'description']])\n"
   ]
  },
  {
   "cell_type": "code",
   "execution_count": 35,
   "metadata": {},
   "outputs": [
    {
     "data": {
      "application/vnd.plotly.v1+json": {
       "config": {
        "plotlyServerURL": "https://plot.ly"
       },
       "data": [
        {
         "alignmentgroup": "True",
         "hovertemplate": "Crime_Type=Violent<br>Year=%{x}<br>Count=%{y}<extra></extra>",
         "legendgroup": "Violent",
         "marker": {
          "color": "#636efa",
          "pattern": {
           "shape": ""
          }
         },
         "name": "Violent",
         "offsetgroup": "Violent",
         "orientation": "v",
         "showlegend": true,
         "textposition": "auto",
         "type": "bar",
         "x": [
          "2022",
          "2023"
         ],
         "xaxis": "x",
         "y": [
          4610,
          4244
         ],
         "yaxis": "y"
        },
        {
         "alignmentgroup": "True",
         "hovertemplate": "Crime_Type=Non-Violent<br>Year=%{x}<br>Count=%{y}<extra></extra>",
         "legendgroup": "Non-Violent",
         "marker": {
          "color": "#EF553B",
          "pattern": {
           "shape": ""
          }
         },
         "name": "Non-Violent",
         "offsetgroup": "Non-Violent",
         "orientation": "v",
         "showlegend": true,
         "textposition": "auto",
         "type": "bar",
         "x": [
          "2022",
          "2023"
         ],
         "xaxis": "x",
         "y": [
          21914,
          21768
         ],
         "yaxis": "y"
        }
       ],
       "layout": {
        "barmode": "group",
        "legend": {
         "title": {
          "text": "Crime_Type"
         },
         "tracegroupgap": 0
        },
        "template": {
         "data": {
          "bar": [
           {
            "error_x": {
             "color": "#2a3f5f"
            },
            "error_y": {
             "color": "#2a3f5f"
            },
            "marker": {
             "line": {
              "color": "#E5ECF6",
              "width": 0.5
             },
             "pattern": {
              "fillmode": "overlay",
              "size": 10,
              "solidity": 0.2
             }
            },
            "type": "bar"
           }
          ],
          "barpolar": [
           {
            "marker": {
             "line": {
              "color": "#E5ECF6",
              "width": 0.5
             },
             "pattern": {
              "fillmode": "overlay",
              "size": 10,
              "solidity": 0.2
             }
            },
            "type": "barpolar"
           }
          ],
          "carpet": [
           {
            "aaxis": {
             "endlinecolor": "#2a3f5f",
             "gridcolor": "white",
             "linecolor": "white",
             "minorgridcolor": "white",
             "startlinecolor": "#2a3f5f"
            },
            "baxis": {
             "endlinecolor": "#2a3f5f",
             "gridcolor": "white",
             "linecolor": "white",
             "minorgridcolor": "white",
             "startlinecolor": "#2a3f5f"
            },
            "type": "carpet"
           }
          ],
          "choropleth": [
           {
            "colorbar": {
             "outlinewidth": 0,
             "ticks": ""
            },
            "type": "choropleth"
           }
          ],
          "contour": [
           {
            "colorbar": {
             "outlinewidth": 0,
             "ticks": ""
            },
            "colorscale": [
             [
              0,
              "#0d0887"
             ],
             [
              0.1111111111111111,
              "#46039f"
             ],
             [
              0.2222222222222222,
              "#7201a8"
             ],
             [
              0.3333333333333333,
              "#9c179e"
             ],
             [
              0.4444444444444444,
              "#bd3786"
             ],
             [
              0.5555555555555556,
              "#d8576b"
             ],
             [
              0.6666666666666666,
              "#ed7953"
             ],
             [
              0.7777777777777778,
              "#fb9f3a"
             ],
             [
              0.8888888888888888,
              "#fdca26"
             ],
             [
              1,
              "#f0f921"
             ]
            ],
            "type": "contour"
           }
          ],
          "contourcarpet": [
           {
            "colorbar": {
             "outlinewidth": 0,
             "ticks": ""
            },
            "type": "contourcarpet"
           }
          ],
          "heatmap": [
           {
            "colorbar": {
             "outlinewidth": 0,
             "ticks": ""
            },
            "colorscale": [
             [
              0,
              "#0d0887"
             ],
             [
              0.1111111111111111,
              "#46039f"
             ],
             [
              0.2222222222222222,
              "#7201a8"
             ],
             [
              0.3333333333333333,
              "#9c179e"
             ],
             [
              0.4444444444444444,
              "#bd3786"
             ],
             [
              0.5555555555555556,
              "#d8576b"
             ],
             [
              0.6666666666666666,
              "#ed7953"
             ],
             [
              0.7777777777777778,
              "#fb9f3a"
             ],
             [
              0.8888888888888888,
              "#fdca26"
             ],
             [
              1,
              "#f0f921"
             ]
            ],
            "type": "heatmap"
           }
          ],
          "heatmapgl": [
           {
            "colorbar": {
             "outlinewidth": 0,
             "ticks": ""
            },
            "colorscale": [
             [
              0,
              "#0d0887"
             ],
             [
              0.1111111111111111,
              "#46039f"
             ],
             [
              0.2222222222222222,
              "#7201a8"
             ],
             [
              0.3333333333333333,
              "#9c179e"
             ],
             [
              0.4444444444444444,
              "#bd3786"
             ],
             [
              0.5555555555555556,
              "#d8576b"
             ],
             [
              0.6666666666666666,
              "#ed7953"
             ],
             [
              0.7777777777777778,
              "#fb9f3a"
             ],
             [
              0.8888888888888888,
              "#fdca26"
             ],
             [
              1,
              "#f0f921"
             ]
            ],
            "type": "heatmapgl"
           }
          ],
          "histogram": [
           {
            "marker": {
             "pattern": {
              "fillmode": "overlay",
              "size": 10,
              "solidity": 0.2
             }
            },
            "type": "histogram"
           }
          ],
          "histogram2d": [
           {
            "colorbar": {
             "outlinewidth": 0,
             "ticks": ""
            },
            "colorscale": [
             [
              0,
              "#0d0887"
             ],
             [
              0.1111111111111111,
              "#46039f"
             ],
             [
              0.2222222222222222,
              "#7201a8"
             ],
             [
              0.3333333333333333,
              "#9c179e"
             ],
             [
              0.4444444444444444,
              "#bd3786"
             ],
             [
              0.5555555555555556,
              "#d8576b"
             ],
             [
              0.6666666666666666,
              "#ed7953"
             ],
             [
              0.7777777777777778,
              "#fb9f3a"
             ],
             [
              0.8888888888888888,
              "#fdca26"
             ],
             [
              1,
              "#f0f921"
             ]
            ],
            "type": "histogram2d"
           }
          ],
          "histogram2dcontour": [
           {
            "colorbar": {
             "outlinewidth": 0,
             "ticks": ""
            },
            "colorscale": [
             [
              0,
              "#0d0887"
             ],
             [
              0.1111111111111111,
              "#46039f"
             ],
             [
              0.2222222222222222,
              "#7201a8"
             ],
             [
              0.3333333333333333,
              "#9c179e"
             ],
             [
              0.4444444444444444,
              "#bd3786"
             ],
             [
              0.5555555555555556,
              "#d8576b"
             ],
             [
              0.6666666666666666,
              "#ed7953"
             ],
             [
              0.7777777777777778,
              "#fb9f3a"
             ],
             [
              0.8888888888888888,
              "#fdca26"
             ],
             [
              1,
              "#f0f921"
             ]
            ],
            "type": "histogram2dcontour"
           }
          ],
          "mesh3d": [
           {
            "colorbar": {
             "outlinewidth": 0,
             "ticks": ""
            },
            "type": "mesh3d"
           }
          ],
          "parcoords": [
           {
            "line": {
             "colorbar": {
              "outlinewidth": 0,
              "ticks": ""
             }
            },
            "type": "parcoords"
           }
          ],
          "pie": [
           {
            "automargin": true,
            "type": "pie"
           }
          ],
          "scatter": [
           {
            "fillpattern": {
             "fillmode": "overlay",
             "size": 10,
             "solidity": 0.2
            },
            "type": "scatter"
           }
          ],
          "scatter3d": [
           {
            "line": {
             "colorbar": {
              "outlinewidth": 0,
              "ticks": ""
             }
            },
            "marker": {
             "colorbar": {
              "outlinewidth": 0,
              "ticks": ""
             }
            },
            "type": "scatter3d"
           }
          ],
          "scattercarpet": [
           {
            "marker": {
             "colorbar": {
              "outlinewidth": 0,
              "ticks": ""
             }
            },
            "type": "scattercarpet"
           }
          ],
          "scattergeo": [
           {
            "marker": {
             "colorbar": {
              "outlinewidth": 0,
              "ticks": ""
             }
            },
            "type": "scattergeo"
           }
          ],
          "scattergl": [
           {
            "marker": {
             "colorbar": {
              "outlinewidth": 0,
              "ticks": ""
             }
            },
            "type": "scattergl"
           }
          ],
          "scattermapbox": [
           {
            "marker": {
             "colorbar": {
              "outlinewidth": 0,
              "ticks": ""
             }
            },
            "type": "scattermapbox"
           }
          ],
          "scatterpolar": [
           {
            "marker": {
             "colorbar": {
              "outlinewidth": 0,
              "ticks": ""
             }
            },
            "type": "scatterpolar"
           }
          ],
          "scatterpolargl": [
           {
            "marker": {
             "colorbar": {
              "outlinewidth": 0,
              "ticks": ""
             }
            },
            "type": "scatterpolargl"
           }
          ],
          "scatterternary": [
           {
            "marker": {
             "colorbar": {
              "outlinewidth": 0,
              "ticks": ""
             }
            },
            "type": "scatterternary"
           }
          ],
          "surface": [
           {
            "colorbar": {
             "outlinewidth": 0,
             "ticks": ""
            },
            "colorscale": [
             [
              0,
              "#0d0887"
             ],
             [
              0.1111111111111111,
              "#46039f"
             ],
             [
              0.2222222222222222,
              "#7201a8"
             ],
             [
              0.3333333333333333,
              "#9c179e"
             ],
             [
              0.4444444444444444,
              "#bd3786"
             ],
             [
              0.5555555555555556,
              "#d8576b"
             ],
             [
              0.6666666666666666,
              "#ed7953"
             ],
             [
              0.7777777777777778,
              "#fb9f3a"
             ],
             [
              0.8888888888888888,
              "#fdca26"
             ],
             [
              1,
              "#f0f921"
             ]
            ],
            "type": "surface"
           }
          ],
          "table": [
           {
            "cells": {
             "fill": {
              "color": "#EBF0F8"
             },
             "line": {
              "color": "white"
             }
            },
            "header": {
             "fill": {
              "color": "#C8D4E3"
             },
             "line": {
              "color": "white"
             }
            },
            "type": "table"
           }
          ]
         },
         "layout": {
          "annotationdefaults": {
           "arrowcolor": "#2a3f5f",
           "arrowhead": 0,
           "arrowwidth": 1
          },
          "autotypenumbers": "strict",
          "coloraxis": {
           "colorbar": {
            "outlinewidth": 0,
            "ticks": ""
           }
          },
          "colorscale": {
           "diverging": [
            [
             0,
             "#8e0152"
            ],
            [
             0.1,
             "#c51b7d"
            ],
            [
             0.2,
             "#de77ae"
            ],
            [
             0.3,
             "#f1b6da"
            ],
            [
             0.4,
             "#fde0ef"
            ],
            [
             0.5,
             "#f7f7f7"
            ],
            [
             0.6,
             "#e6f5d0"
            ],
            [
             0.7,
             "#b8e186"
            ],
            [
             0.8,
             "#7fbc41"
            ],
            [
             0.9,
             "#4d9221"
            ],
            [
             1,
             "#276419"
            ]
           ],
           "sequential": [
            [
             0,
             "#0d0887"
            ],
            [
             0.1111111111111111,
             "#46039f"
            ],
            [
             0.2222222222222222,
             "#7201a8"
            ],
            [
             0.3333333333333333,
             "#9c179e"
            ],
            [
             0.4444444444444444,
             "#bd3786"
            ],
            [
             0.5555555555555556,
             "#d8576b"
            ],
            [
             0.6666666666666666,
             "#ed7953"
            ],
            [
             0.7777777777777778,
             "#fb9f3a"
            ],
            [
             0.8888888888888888,
             "#fdca26"
            ],
            [
             1,
             "#f0f921"
            ]
           ],
           "sequentialminus": [
            [
             0,
             "#0d0887"
            ],
            [
             0.1111111111111111,
             "#46039f"
            ],
            [
             0.2222222222222222,
             "#7201a8"
            ],
            [
             0.3333333333333333,
             "#9c179e"
            ],
            [
             0.4444444444444444,
             "#bd3786"
            ],
            [
             0.5555555555555556,
             "#d8576b"
            ],
            [
             0.6666666666666666,
             "#ed7953"
            ],
            [
             0.7777777777777778,
             "#fb9f3a"
            ],
            [
             0.8888888888888888,
             "#fdca26"
            ],
            [
             1,
             "#f0f921"
            ]
           ]
          },
          "colorway": [
           "#636efa",
           "#EF553B",
           "#00cc96",
           "#ab63fa",
           "#FFA15A",
           "#19d3f3",
           "#FF6692",
           "#B6E880",
           "#FF97FF",
           "#FECB52"
          ],
          "font": {
           "color": "#2a3f5f"
          },
          "geo": {
           "bgcolor": "white",
           "lakecolor": "white",
           "landcolor": "#E5ECF6",
           "showlakes": true,
           "showland": true,
           "subunitcolor": "white"
          },
          "hoverlabel": {
           "align": "left"
          },
          "hovermode": "closest",
          "mapbox": {
           "style": "light"
          },
          "paper_bgcolor": "white",
          "plot_bgcolor": "#E5ECF6",
          "polar": {
           "angularaxis": {
            "gridcolor": "white",
            "linecolor": "white",
            "ticks": ""
           },
           "bgcolor": "#E5ECF6",
           "radialaxis": {
            "gridcolor": "white",
            "linecolor": "white",
            "ticks": ""
           }
          },
          "scene": {
           "xaxis": {
            "backgroundcolor": "#E5ECF6",
            "gridcolor": "white",
            "gridwidth": 2,
            "linecolor": "white",
            "showbackground": true,
            "ticks": "",
            "zerolinecolor": "white"
           },
           "yaxis": {
            "backgroundcolor": "#E5ECF6",
            "gridcolor": "white",
            "gridwidth": 2,
            "linecolor": "white",
            "showbackground": true,
            "ticks": "",
            "zerolinecolor": "white"
           },
           "zaxis": {
            "backgroundcolor": "#E5ECF6",
            "gridcolor": "white",
            "gridwidth": 2,
            "linecolor": "white",
            "showbackground": true,
            "ticks": "",
            "zerolinecolor": "white"
           }
          },
          "shapedefaults": {
           "line": {
            "color": "#2a3f5f"
           }
          },
          "ternary": {
           "aaxis": {
            "gridcolor": "white",
            "linecolor": "white",
            "ticks": ""
           },
           "baxis": {
            "gridcolor": "white",
            "linecolor": "white",
            "ticks": ""
           },
           "bgcolor": "#E5ECF6",
           "caxis": {
            "gridcolor": "white",
            "linecolor": "white",
            "ticks": ""
           }
          },
          "title": {
           "x": 0.05
          },
          "xaxis": {
           "automargin": true,
           "gridcolor": "white",
           "linecolor": "white",
           "ticks": "",
           "title": {
            "standoff": 15
           },
           "zerolinecolor": "white",
           "zerolinewidth": 2
          },
          "yaxis": {
           "automargin": true,
           "gridcolor": "white",
           "linecolor": "white",
           "ticks": "",
           "title": {
            "standoff": 15
           },
           "zerolinecolor": "white",
           "zerolinewidth": 2
          }
         }
        },
        "title": {
         "text": "Comparison of Violent and Non-Violent Crimes in 2022 vs 2023"
        },
        "xaxis": {
         "anchor": "y",
         "domain": [
          0,
          1
         ],
         "title": {
          "text": "Year"
         }
        },
        "yaxis": {
         "anchor": "x",
         "domain": [
          0,
          1
         ],
         "title": {
          "text": "Count"
         }
        }
       }
      }
     },
     "metadata": {},
     "output_type": "display_data"
    }
   ],
   "source": [
    "import plotly.express as px\n",
    "\n",
    "# Data preparation for visualization\n",
    "crime_data = {\n",
    "    'Year': ['2022', '2022', '2023', '2023'],\n",
    "    'Crime_Type': ['Violent', 'Non-Violent', 'Violent', 'Non-Violent'],\n",
    "    'Count': [4610, 21914, 4244, 21768]\n",
    "}\n",
    "df_crime_data = pd.DataFrame(crime_data)\n",
    "\n",
    "# Bar chart comparison\n",
    "fig = px.bar(df_crime_data, x='Year', y='Count', color='Crime_Type', barmode='group',\n",
    "             title='Comparison of Violent and Non-Violent Crimes in 2022 vs 2023')\n",
    "fig.show()\n"
   ]
  },
  {
   "cell_type": "markdown",
   "metadata": {},
   "source": [
    "## Crime Analysis: 2022 vs. 2023\n",
    "\n",
    "### Crime Totals:\n",
    "- **2022 Total Crimes**:\n",
    "  - Non-Violent: 21,914\n",
    "  - Violent: 4,612\n",
    "  - **Total Crimes in 2022**: 26,526\n",
    "\n",
    "- **2023 Total Crimes**:\n",
    "  - Non-Violent: 21,768\n",
    "  - Violent: 4,245\n",
    "  - **Total Crimes in 2023**: 26,013\n",
    "\n",
    "---\n",
    "\n",
    "## Calculating the Percentage Decrease in Total Crime:\n",
    "\n",
    "To calculate the percentage decrease in total crime from 2022 to 2023, we use the formula:\n",
    "\n",
    "$$\n",
    "\\text{Percentage Decrease} = \\left( \\frac{\\text{Total in 2022} - \\text{Total in 2023}}{\\text{Total in 2022}} \\right) \\times 100\n",
    "$$\n",
    "\n",
    "Substituting the values:\n",
    "\n",
    "$$\n",
    "\\text{Percentage Decrease} = \\left( \\frac{26526 - 26013}{26526} \\right) \\times 100 = \\left( \\frac{513}{26526} \\right) \\times 100 = 1.93\\%\n",
    "$$\n",
    "\n",
    "Thus, the actual decrease in total crime is **1.93%**, which is significantly less than the 43% decrease claimed by the mayor.\n",
    "\n",
    "---\n",
    "\n",
    "### Possible Explanations for the Discrepancy:\n",
    "\n",
    "1. **Different Crime Categories**: The mayor might have referred to a specific subset of crimes, such as violent crimes, specific types of non-violent crimes, or crimes in a particular neighborhood.\n",
    "\n",
    "2. **Time Period**: The mayor could be comparing a specific time period (e.g., certain months or quarters) rather than the entire year.\n",
    "\n",
    "3. **Population Adjustments**: The 43% figure could be based on crime rates adjusted for population changes. If the population has decreased significantly, it could give the appearance of a larger crime reduction.\n",
    "\n",
    "4. **Data Gaps or Reporting Changes**: There may have been changes in how crimes were reported between 2022 and 2023. Underreporting in 2023 or increased reporting in 2022 could impact the comparison.\n",
    "\n",
    "---\n",
    "\n",
    "### Next Steps for Verification:\n",
    "\n",
    "1. **Subset Analysis**: Identify if the mayor referred to a specific category of crimes (e.g., violent crimes, property crimes, or crimes in a particular area) and analyze that subset for changes.\n",
    "\n",
    "2. **Time-Specific Analysis**: Narrow the data to specific time frames (e.g., the first 6 months of 2022 vs. 2023) to align with the period referenced by the mayor.\n",
    "\n",
    "3. **Crime Rate Adjustments**: If population data is available, calculate the crime rate per 1,000 or 100,000 people. This could provide better insight into crime trends relative to population changes.\n"
   ]
  },
  {
   "cell_type": "markdown",
   "metadata": {},
   "source": [
    "### Question:\n",
    "Did the population of Minneapolis decrease between 2022 and 2023?\n",
    "\n",
    "### Answer:\n",
    "No, the population of Minneapolis **did not decrease** between 2022 and 2023. In fact, it saw a slight increase of around **0.74%**, growing from **422,003 in 2022** to **425,115 in 2023**. This follows a population decline from 2021 to 2022, when the city experienced a **1.36% decrease** in population.\n",
    "\n",
    "Given this slight increase in population, changes in population are unlikely to explain the discrepancy in the mayor's claim of a **43% decrease in crime**. It's possible that the claim refers to a specific subset of crimes or time period.\n",
    "\n",
    "Sources:\n",
    "- :contentReference[oaicite:0]{index=0}ps:&#8203;:contentReference[oaicite:1]{index=1}ear/)\n",
    "- [Minneapolis Population Data - World Population Review](https://worldpopulationreview.com/us-cities/minnesota/minneapolis)\n"
   ]
  },
  {
   "cell_type": "markdown",
   "metadata": {},
   "source": [
    "### Next Steps: Exploring Crime Subcategories\n",
    "\n",
    "In the next phase of analysis, I will:\n",
    "\n",
    "1. **Identify the Top 4 Crime Categories** from the 2022 dataset.\n",
    "2. **Compare these Top 4 Categories** with the 2023 dataset to observe trends.\n",
    "3. **Categorize all other crimes** in both years as \"Other.\"\n",
    "\n",
    "This will provide a clearer view of which specific crime subcategories contributed the most to the overall crime rates and how these trends evolved between 2022 and 2023.\n"
   ]
  },
  {
   "cell_type": "code",
   "execution_count": 36,
   "metadata": {},
   "outputs": [
    {
     "data": {
      "application/vnd.plotly.v1+json": {
       "config": {
        "plotlyServerURL": "https://plot.ly"
       },
       "data": [
        {
         "alignmentgroup": "True",
         "hovertemplate": "Offense=ASLT2<br>Year=%{x}<br>Count=%{y}<extra></extra>",
         "legendgroup": "ASLT2",
         "marker": {
          "color": "#636efa",
          "pattern": {
           "shape": ""
          }
         },
         "name": "ASLT2",
         "offsetgroup": "ASLT2",
         "orientation": "v",
         "showlegend": true,
         "textposition": "auto",
         "type": "bar",
         "x": [
          "2022",
          "2023"
         ],
         "xaxis": "x",
         "y": [
          1221,
          1195
         ],
         "yaxis": "y"
        },
        {
         "alignmentgroup": "True",
         "hovertemplate": "Offense=ROBPAG<br>Year=%{x}<br>Count=%{y}<extra></extra>",
         "legendgroup": "ROBPAG",
         "marker": {
          "color": "#EF553B",
          "pattern": {
           "shape": ""
          }
         },
         "name": "ROBPAG",
         "offsetgroup": "ROBPAG",
         "orientation": "v",
         "showlegend": true,
         "textposition": "auto",
         "type": "bar",
         "x": [
          "2022",
          "2023"
         ],
         "xaxis": "x",
         "y": [
          700,
          637
         ],
         "yaxis": "y"
        },
        {
         "alignmentgroup": "True",
         "hovertemplate": "Offense=CARJCK<br>Year=%{x}<br>Count=%{y}<extra></extra>",
         "legendgroup": "CARJCK",
         "marker": {
          "color": "#00cc96",
          "pattern": {
           "shape": ""
          }
         },
         "name": "CARJCK",
         "offsetgroup": "CARJCK",
         "orientation": "v",
         "showlegend": true,
         "textposition": "auto",
         "type": "bar",
         "x": [
          "2022"
         ],
         "xaxis": "x",
         "y": [
          518
         ],
         "yaxis": "y"
        },
        {
         "alignmentgroup": "True",
         "hovertemplate": "Offense=ROBPER<br>Year=%{x}<br>Count=%{y}<extra></extra>",
         "legendgroup": "ROBPER",
         "marker": {
          "color": "#ab63fa",
          "pattern": {
           "shape": ""
          }
         },
         "name": "ROBPER",
         "offsetgroup": "ROBPER",
         "orientation": "v",
         "showlegend": true,
         "textposition": "auto",
         "type": "bar",
         "x": [
          "2022"
         ],
         "xaxis": "x",
         "y": [
          445
         ],
         "yaxis": "y"
        },
        {
         "alignmentgroup": "True",
         "hovertemplate": "Offense=Other<br>Year=%{x}<br>Count=%{y}<extra></extra>",
         "legendgroup": "Other",
         "marker": {
          "color": "#FFA15A",
          "pattern": {
           "shape": ""
          }
         },
         "name": "Other",
         "offsetgroup": "Other",
         "orientation": "v",
         "showlegend": true,
         "textposition": "auto",
         "type": "bar",
         "x": [
          "2022",
          "2023"
         ],
         "xaxis": "x",
         "y": [
          1728,
          1594
         ],
         "yaxis": "y"
        },
        {
         "alignmentgroup": "True",
         "hovertemplate": "Offense=DASLT2<br>Year=%{x}<br>Count=%{y}<extra></extra>",
         "legendgroup": "DASLT2",
         "marker": {
          "color": "#19d3f3",
          "pattern": {
           "shape": ""
          }
         },
         "name": "DASLT2",
         "offsetgroup": "DASLT2",
         "orientation": "v",
         "showlegend": true,
         "textposition": "auto",
         "type": "bar",
         "x": [
          "2023"
         ],
         "xaxis": "x",
         "y": [
          415
         ],
         "yaxis": "y"
        },
        {
         "alignmentgroup": "True",
         "hovertemplate": "Offense=DASTR<br>Year=%{x}<br>Count=%{y}<extra></extra>",
         "legendgroup": "DASTR",
         "marker": {
          "color": "#FF6692",
          "pattern": {
           "shape": ""
          }
         },
         "name": "DASTR",
         "offsetgroup": "DASTR",
         "orientation": "v",
         "showlegend": true,
         "textposition": "auto",
         "type": "bar",
         "x": [
          "2023"
         ],
         "xaxis": "x",
         "y": [
          404
         ],
         "yaxis": "y"
        }
       ],
       "layout": {
        "barmode": "group",
        "legend": {
         "title": {
          "text": "Offense"
         },
         "tracegroupgap": 0
        },
        "template": {
         "data": {
          "bar": [
           {
            "error_x": {
             "color": "#2a3f5f"
            },
            "error_y": {
             "color": "#2a3f5f"
            },
            "marker": {
             "line": {
              "color": "#E5ECF6",
              "width": 0.5
             },
             "pattern": {
              "fillmode": "overlay",
              "size": 10,
              "solidity": 0.2
             }
            },
            "type": "bar"
           }
          ],
          "barpolar": [
           {
            "marker": {
             "line": {
              "color": "#E5ECF6",
              "width": 0.5
             },
             "pattern": {
              "fillmode": "overlay",
              "size": 10,
              "solidity": 0.2
             }
            },
            "type": "barpolar"
           }
          ],
          "carpet": [
           {
            "aaxis": {
             "endlinecolor": "#2a3f5f",
             "gridcolor": "white",
             "linecolor": "white",
             "minorgridcolor": "white",
             "startlinecolor": "#2a3f5f"
            },
            "baxis": {
             "endlinecolor": "#2a3f5f",
             "gridcolor": "white",
             "linecolor": "white",
             "minorgridcolor": "white",
             "startlinecolor": "#2a3f5f"
            },
            "type": "carpet"
           }
          ],
          "choropleth": [
           {
            "colorbar": {
             "outlinewidth": 0,
             "ticks": ""
            },
            "type": "choropleth"
           }
          ],
          "contour": [
           {
            "colorbar": {
             "outlinewidth": 0,
             "ticks": ""
            },
            "colorscale": [
             [
              0,
              "#0d0887"
             ],
             [
              0.1111111111111111,
              "#46039f"
             ],
             [
              0.2222222222222222,
              "#7201a8"
             ],
             [
              0.3333333333333333,
              "#9c179e"
             ],
             [
              0.4444444444444444,
              "#bd3786"
             ],
             [
              0.5555555555555556,
              "#d8576b"
             ],
             [
              0.6666666666666666,
              "#ed7953"
             ],
             [
              0.7777777777777778,
              "#fb9f3a"
             ],
             [
              0.8888888888888888,
              "#fdca26"
             ],
             [
              1,
              "#f0f921"
             ]
            ],
            "type": "contour"
           }
          ],
          "contourcarpet": [
           {
            "colorbar": {
             "outlinewidth": 0,
             "ticks": ""
            },
            "type": "contourcarpet"
           }
          ],
          "heatmap": [
           {
            "colorbar": {
             "outlinewidth": 0,
             "ticks": ""
            },
            "colorscale": [
             [
              0,
              "#0d0887"
             ],
             [
              0.1111111111111111,
              "#46039f"
             ],
             [
              0.2222222222222222,
              "#7201a8"
             ],
             [
              0.3333333333333333,
              "#9c179e"
             ],
             [
              0.4444444444444444,
              "#bd3786"
             ],
             [
              0.5555555555555556,
              "#d8576b"
             ],
             [
              0.6666666666666666,
              "#ed7953"
             ],
             [
              0.7777777777777778,
              "#fb9f3a"
             ],
             [
              0.8888888888888888,
              "#fdca26"
             ],
             [
              1,
              "#f0f921"
             ]
            ],
            "type": "heatmap"
           }
          ],
          "heatmapgl": [
           {
            "colorbar": {
             "outlinewidth": 0,
             "ticks": ""
            },
            "colorscale": [
             [
              0,
              "#0d0887"
             ],
             [
              0.1111111111111111,
              "#46039f"
             ],
             [
              0.2222222222222222,
              "#7201a8"
             ],
             [
              0.3333333333333333,
              "#9c179e"
             ],
             [
              0.4444444444444444,
              "#bd3786"
             ],
             [
              0.5555555555555556,
              "#d8576b"
             ],
             [
              0.6666666666666666,
              "#ed7953"
             ],
             [
              0.7777777777777778,
              "#fb9f3a"
             ],
             [
              0.8888888888888888,
              "#fdca26"
             ],
             [
              1,
              "#f0f921"
             ]
            ],
            "type": "heatmapgl"
           }
          ],
          "histogram": [
           {
            "marker": {
             "pattern": {
              "fillmode": "overlay",
              "size": 10,
              "solidity": 0.2
             }
            },
            "type": "histogram"
           }
          ],
          "histogram2d": [
           {
            "colorbar": {
             "outlinewidth": 0,
             "ticks": ""
            },
            "colorscale": [
             [
              0,
              "#0d0887"
             ],
             [
              0.1111111111111111,
              "#46039f"
             ],
             [
              0.2222222222222222,
              "#7201a8"
             ],
             [
              0.3333333333333333,
              "#9c179e"
             ],
             [
              0.4444444444444444,
              "#bd3786"
             ],
             [
              0.5555555555555556,
              "#d8576b"
             ],
             [
              0.6666666666666666,
              "#ed7953"
             ],
             [
              0.7777777777777778,
              "#fb9f3a"
             ],
             [
              0.8888888888888888,
              "#fdca26"
             ],
             [
              1,
              "#f0f921"
             ]
            ],
            "type": "histogram2d"
           }
          ],
          "histogram2dcontour": [
           {
            "colorbar": {
             "outlinewidth": 0,
             "ticks": ""
            },
            "colorscale": [
             [
              0,
              "#0d0887"
             ],
             [
              0.1111111111111111,
              "#46039f"
             ],
             [
              0.2222222222222222,
              "#7201a8"
             ],
             [
              0.3333333333333333,
              "#9c179e"
             ],
             [
              0.4444444444444444,
              "#bd3786"
             ],
             [
              0.5555555555555556,
              "#d8576b"
             ],
             [
              0.6666666666666666,
              "#ed7953"
             ],
             [
              0.7777777777777778,
              "#fb9f3a"
             ],
             [
              0.8888888888888888,
              "#fdca26"
             ],
             [
              1,
              "#f0f921"
             ]
            ],
            "type": "histogram2dcontour"
           }
          ],
          "mesh3d": [
           {
            "colorbar": {
             "outlinewidth": 0,
             "ticks": ""
            },
            "type": "mesh3d"
           }
          ],
          "parcoords": [
           {
            "line": {
             "colorbar": {
              "outlinewidth": 0,
              "ticks": ""
             }
            },
            "type": "parcoords"
           }
          ],
          "pie": [
           {
            "automargin": true,
            "type": "pie"
           }
          ],
          "scatter": [
           {
            "fillpattern": {
             "fillmode": "overlay",
             "size": 10,
             "solidity": 0.2
            },
            "type": "scatter"
           }
          ],
          "scatter3d": [
           {
            "line": {
             "colorbar": {
              "outlinewidth": 0,
              "ticks": ""
             }
            },
            "marker": {
             "colorbar": {
              "outlinewidth": 0,
              "ticks": ""
             }
            },
            "type": "scatter3d"
           }
          ],
          "scattercarpet": [
           {
            "marker": {
             "colorbar": {
              "outlinewidth": 0,
              "ticks": ""
             }
            },
            "type": "scattercarpet"
           }
          ],
          "scattergeo": [
           {
            "marker": {
             "colorbar": {
              "outlinewidth": 0,
              "ticks": ""
             }
            },
            "type": "scattergeo"
           }
          ],
          "scattergl": [
           {
            "marker": {
             "colorbar": {
              "outlinewidth": 0,
              "ticks": ""
             }
            },
            "type": "scattergl"
           }
          ],
          "scattermapbox": [
           {
            "marker": {
             "colorbar": {
              "outlinewidth": 0,
              "ticks": ""
             }
            },
            "type": "scattermapbox"
           }
          ],
          "scatterpolar": [
           {
            "marker": {
             "colorbar": {
              "outlinewidth": 0,
              "ticks": ""
             }
            },
            "type": "scatterpolar"
           }
          ],
          "scatterpolargl": [
           {
            "marker": {
             "colorbar": {
              "outlinewidth": 0,
              "ticks": ""
             }
            },
            "type": "scatterpolargl"
           }
          ],
          "scatterternary": [
           {
            "marker": {
             "colorbar": {
              "outlinewidth": 0,
              "ticks": ""
             }
            },
            "type": "scatterternary"
           }
          ],
          "surface": [
           {
            "colorbar": {
             "outlinewidth": 0,
             "ticks": ""
            },
            "colorscale": [
             [
              0,
              "#0d0887"
             ],
             [
              0.1111111111111111,
              "#46039f"
             ],
             [
              0.2222222222222222,
              "#7201a8"
             ],
             [
              0.3333333333333333,
              "#9c179e"
             ],
             [
              0.4444444444444444,
              "#bd3786"
             ],
             [
              0.5555555555555556,
              "#d8576b"
             ],
             [
              0.6666666666666666,
              "#ed7953"
             ],
             [
              0.7777777777777778,
              "#fb9f3a"
             ],
             [
              0.8888888888888888,
              "#fdca26"
             ],
             [
              1,
              "#f0f921"
             ]
            ],
            "type": "surface"
           }
          ],
          "table": [
           {
            "cells": {
             "fill": {
              "color": "#EBF0F8"
             },
             "line": {
              "color": "white"
             }
            },
            "header": {
             "fill": {
              "color": "#C8D4E3"
             },
             "line": {
              "color": "white"
             }
            },
            "type": "table"
           }
          ]
         },
         "layout": {
          "annotationdefaults": {
           "arrowcolor": "#2a3f5f",
           "arrowhead": 0,
           "arrowwidth": 1
          },
          "autotypenumbers": "strict",
          "coloraxis": {
           "colorbar": {
            "outlinewidth": 0,
            "ticks": ""
           }
          },
          "colorscale": {
           "diverging": [
            [
             0,
             "#8e0152"
            ],
            [
             0.1,
             "#c51b7d"
            ],
            [
             0.2,
             "#de77ae"
            ],
            [
             0.3,
             "#f1b6da"
            ],
            [
             0.4,
             "#fde0ef"
            ],
            [
             0.5,
             "#f7f7f7"
            ],
            [
             0.6,
             "#e6f5d0"
            ],
            [
             0.7,
             "#b8e186"
            ],
            [
             0.8,
             "#7fbc41"
            ],
            [
             0.9,
             "#4d9221"
            ],
            [
             1,
             "#276419"
            ]
           ],
           "sequential": [
            [
             0,
             "#0d0887"
            ],
            [
             0.1111111111111111,
             "#46039f"
            ],
            [
             0.2222222222222222,
             "#7201a8"
            ],
            [
             0.3333333333333333,
             "#9c179e"
            ],
            [
             0.4444444444444444,
             "#bd3786"
            ],
            [
             0.5555555555555556,
             "#d8576b"
            ],
            [
             0.6666666666666666,
             "#ed7953"
            ],
            [
             0.7777777777777778,
             "#fb9f3a"
            ],
            [
             0.8888888888888888,
             "#fdca26"
            ],
            [
             1,
             "#f0f921"
            ]
           ],
           "sequentialminus": [
            [
             0,
             "#0d0887"
            ],
            [
             0.1111111111111111,
             "#46039f"
            ],
            [
             0.2222222222222222,
             "#7201a8"
            ],
            [
             0.3333333333333333,
             "#9c179e"
            ],
            [
             0.4444444444444444,
             "#bd3786"
            ],
            [
             0.5555555555555556,
             "#d8576b"
            ],
            [
             0.6666666666666666,
             "#ed7953"
            ],
            [
             0.7777777777777778,
             "#fb9f3a"
            ],
            [
             0.8888888888888888,
             "#fdca26"
            ],
            [
             1,
             "#f0f921"
            ]
           ]
          },
          "colorway": [
           "#636efa",
           "#EF553B",
           "#00cc96",
           "#ab63fa",
           "#FFA15A",
           "#19d3f3",
           "#FF6692",
           "#B6E880",
           "#FF97FF",
           "#FECB52"
          ],
          "font": {
           "color": "#2a3f5f"
          },
          "geo": {
           "bgcolor": "white",
           "lakecolor": "white",
           "landcolor": "#E5ECF6",
           "showlakes": true,
           "showland": true,
           "subunitcolor": "white"
          },
          "hoverlabel": {
           "align": "left"
          },
          "hovermode": "closest",
          "mapbox": {
           "style": "light"
          },
          "paper_bgcolor": "white",
          "plot_bgcolor": "#E5ECF6",
          "polar": {
           "angularaxis": {
            "gridcolor": "white",
            "linecolor": "white",
            "ticks": ""
           },
           "bgcolor": "#E5ECF6",
           "radialaxis": {
            "gridcolor": "white",
            "linecolor": "white",
            "ticks": ""
           }
          },
          "scene": {
           "xaxis": {
            "backgroundcolor": "#E5ECF6",
            "gridcolor": "white",
            "gridwidth": 2,
            "linecolor": "white",
            "showbackground": true,
            "ticks": "",
            "zerolinecolor": "white"
           },
           "yaxis": {
            "backgroundcolor": "#E5ECF6",
            "gridcolor": "white",
            "gridwidth": 2,
            "linecolor": "white",
            "showbackground": true,
            "ticks": "",
            "zerolinecolor": "white"
           },
           "zaxis": {
            "backgroundcolor": "#E5ECF6",
            "gridcolor": "white",
            "gridwidth": 2,
            "linecolor": "white",
            "showbackground": true,
            "ticks": "",
            "zerolinecolor": "white"
           }
          },
          "shapedefaults": {
           "line": {
            "color": "#2a3f5f"
           }
          },
          "ternary": {
           "aaxis": {
            "gridcolor": "white",
            "linecolor": "white",
            "ticks": ""
           },
           "baxis": {
            "gridcolor": "white",
            "linecolor": "white",
            "ticks": ""
           },
           "bgcolor": "#E5ECF6",
           "caxis": {
            "gridcolor": "white",
            "linecolor": "white",
            "ticks": ""
           }
          },
          "title": {
           "x": 0.05
          },
          "xaxis": {
           "automargin": true,
           "gridcolor": "white",
           "linecolor": "white",
           "ticks": "",
           "title": {
            "standoff": 15
           },
           "zerolinecolor": "white",
           "zerolinewidth": 2
          },
          "yaxis": {
           "automargin": true,
           "gridcolor": "white",
           "linecolor": "white",
           "ticks": "",
           "title": {
            "standoff": 15
           },
           "zerolinecolor": "white",
           "zerolinewidth": 2
          }
         }
        },
        "title": {
         "text": "Top Violent Crimes in 2022 vs 2023"
        },
        "xaxis": {
         "anchor": "y",
         "domain": [
          0,
          1
         ],
         "title": {
          "text": "Year"
         }
        },
        "yaxis": {
         "anchor": "x",
         "domain": [
          0,
          1
         ],
         "title": {
          "text": "Count"
         }
        }
       }
      }
     },
     "metadata": {},
     "output_type": "display_data"
    },
    {
     "data": {
      "application/vnd.plotly.v1+json": {
       "config": {
        "plotlyServerURL": "https://plot.ly"
       },
       "data": [
        {
         "alignmentgroup": "True",
         "hovertemplate": "Offense=AUTOTH<br>Year=%{x}<br>Count=%{y}<extra></extra>",
         "legendgroup": "AUTOTH",
         "marker": {
          "color": "#636efa",
          "pattern": {
           "shape": ""
          }
         },
         "name": "AUTOTH",
         "offsetgroup": "AUTOTH",
         "orientation": "v",
         "showlegend": true,
         "textposition": "auto",
         "type": "bar",
         "x": [
          "2022",
          "2023"
         ],
         "xaxis": "x",
         "y": [
          6089,
          7694
         ],
         "yaxis": "y"
        },
        {
         "alignmentgroup": "True",
         "hovertemplate": "Offense=THEFT<br>Year=%{x}<br>Count=%{y}<extra></extra>",
         "legendgroup": "THEFT",
         "marker": {
          "color": "#EF553B",
          "pattern": {
           "shape": ""
          }
         },
         "name": "THEFT",
         "offsetgroup": "THEFT",
         "orientation": "v",
         "showlegend": true,
         "textposition": "auto",
         "type": "bar",
         "x": [
          "2022",
          "2023"
         ],
         "xaxis": "x",
         "y": [
          3827,
          3552
         ],
         "yaxis": "y"
        },
        {
         "alignmentgroup": "True",
         "hovertemplate": "Offense=TFMV<br>Year=%{x}<br>Count=%{y}<extra></extra>",
         "legendgroup": "TFMV",
         "marker": {
          "color": "#00cc96",
          "pattern": {
           "shape": ""
          }
         },
         "name": "TFMV",
         "offsetgroup": "TFMV",
         "orientation": "v",
         "showlegend": true,
         "textposition": "auto",
         "type": "bar",
         "x": [
          "2022",
          "2023"
         ],
         "xaxis": "x",
         "y": [
          3613,
          3682
         ],
         "yaxis": "y"
        },
        {
         "alignmentgroup": "True",
         "hovertemplate": "Offense=TMVP<br>Year=%{x}<br>Count=%{y}<extra></extra>",
         "legendgroup": "TMVP",
         "marker": {
          "color": "#ab63fa",
          "pattern": {
           "shape": ""
          }
         },
         "name": "TMVP",
         "offsetgroup": "TMVP",
         "orientation": "v",
         "showlegend": true,
         "textposition": "auto",
         "type": "bar",
         "x": [
          "2022"
         ],
         "xaxis": "x",
         "y": [
          3238
         ],
         "yaxis": "y"
        },
        {
         "alignmentgroup": "True",
         "hovertemplate": "Offense=Other<br>Year=%{x}<br>Count=%{y}<extra></extra>",
         "legendgroup": "Other",
         "marker": {
          "color": "#FFA15A",
          "pattern": {
           "shape": ""
          }
         },
         "name": "Other",
         "offsetgroup": "Other",
         "orientation": "v",
         "showlegend": true,
         "textposition": "auto",
         "type": "bar",
         "x": [
          "2022",
          "2023"
         ],
         "xaxis": "x",
         "y": [
          5147,
          5031
         ],
         "yaxis": "y"
        },
        {
         "alignmentgroup": "True",
         "hovertemplate": "Offense=BURGD<br>Year=%{x}<br>Count=%{y}<extra></extra>",
         "legendgroup": "BURGD",
         "marker": {
          "color": "#19d3f3",
          "pattern": {
           "shape": ""
          }
         },
         "name": "BURGD",
         "offsetgroup": "BURGD",
         "orientation": "v",
         "showlegend": true,
         "textposition": "auto",
         "type": "bar",
         "x": [
          "2023"
         ],
         "xaxis": "x",
         "y": [
          1809
         ],
         "yaxis": "y"
        }
       ],
       "layout": {
        "barmode": "group",
        "legend": {
         "title": {
          "text": "Offense"
         },
         "tracegroupgap": 0
        },
        "template": {
         "data": {
          "bar": [
           {
            "error_x": {
             "color": "#2a3f5f"
            },
            "error_y": {
             "color": "#2a3f5f"
            },
            "marker": {
             "line": {
              "color": "#E5ECF6",
              "width": 0.5
             },
             "pattern": {
              "fillmode": "overlay",
              "size": 10,
              "solidity": 0.2
             }
            },
            "type": "bar"
           }
          ],
          "barpolar": [
           {
            "marker": {
             "line": {
              "color": "#E5ECF6",
              "width": 0.5
             },
             "pattern": {
              "fillmode": "overlay",
              "size": 10,
              "solidity": 0.2
             }
            },
            "type": "barpolar"
           }
          ],
          "carpet": [
           {
            "aaxis": {
             "endlinecolor": "#2a3f5f",
             "gridcolor": "white",
             "linecolor": "white",
             "minorgridcolor": "white",
             "startlinecolor": "#2a3f5f"
            },
            "baxis": {
             "endlinecolor": "#2a3f5f",
             "gridcolor": "white",
             "linecolor": "white",
             "minorgridcolor": "white",
             "startlinecolor": "#2a3f5f"
            },
            "type": "carpet"
           }
          ],
          "choropleth": [
           {
            "colorbar": {
             "outlinewidth": 0,
             "ticks": ""
            },
            "type": "choropleth"
           }
          ],
          "contour": [
           {
            "colorbar": {
             "outlinewidth": 0,
             "ticks": ""
            },
            "colorscale": [
             [
              0,
              "#0d0887"
             ],
             [
              0.1111111111111111,
              "#46039f"
             ],
             [
              0.2222222222222222,
              "#7201a8"
             ],
             [
              0.3333333333333333,
              "#9c179e"
             ],
             [
              0.4444444444444444,
              "#bd3786"
             ],
             [
              0.5555555555555556,
              "#d8576b"
             ],
             [
              0.6666666666666666,
              "#ed7953"
             ],
             [
              0.7777777777777778,
              "#fb9f3a"
             ],
             [
              0.8888888888888888,
              "#fdca26"
             ],
             [
              1,
              "#f0f921"
             ]
            ],
            "type": "contour"
           }
          ],
          "contourcarpet": [
           {
            "colorbar": {
             "outlinewidth": 0,
             "ticks": ""
            },
            "type": "contourcarpet"
           }
          ],
          "heatmap": [
           {
            "colorbar": {
             "outlinewidth": 0,
             "ticks": ""
            },
            "colorscale": [
             [
              0,
              "#0d0887"
             ],
             [
              0.1111111111111111,
              "#46039f"
             ],
             [
              0.2222222222222222,
              "#7201a8"
             ],
             [
              0.3333333333333333,
              "#9c179e"
             ],
             [
              0.4444444444444444,
              "#bd3786"
             ],
             [
              0.5555555555555556,
              "#d8576b"
             ],
             [
              0.6666666666666666,
              "#ed7953"
             ],
             [
              0.7777777777777778,
              "#fb9f3a"
             ],
             [
              0.8888888888888888,
              "#fdca26"
             ],
             [
              1,
              "#f0f921"
             ]
            ],
            "type": "heatmap"
           }
          ],
          "heatmapgl": [
           {
            "colorbar": {
             "outlinewidth": 0,
             "ticks": ""
            },
            "colorscale": [
             [
              0,
              "#0d0887"
             ],
             [
              0.1111111111111111,
              "#46039f"
             ],
             [
              0.2222222222222222,
              "#7201a8"
             ],
             [
              0.3333333333333333,
              "#9c179e"
             ],
             [
              0.4444444444444444,
              "#bd3786"
             ],
             [
              0.5555555555555556,
              "#d8576b"
             ],
             [
              0.6666666666666666,
              "#ed7953"
             ],
             [
              0.7777777777777778,
              "#fb9f3a"
             ],
             [
              0.8888888888888888,
              "#fdca26"
             ],
             [
              1,
              "#f0f921"
             ]
            ],
            "type": "heatmapgl"
           }
          ],
          "histogram": [
           {
            "marker": {
             "pattern": {
              "fillmode": "overlay",
              "size": 10,
              "solidity": 0.2
             }
            },
            "type": "histogram"
           }
          ],
          "histogram2d": [
           {
            "colorbar": {
             "outlinewidth": 0,
             "ticks": ""
            },
            "colorscale": [
             [
              0,
              "#0d0887"
             ],
             [
              0.1111111111111111,
              "#46039f"
             ],
             [
              0.2222222222222222,
              "#7201a8"
             ],
             [
              0.3333333333333333,
              "#9c179e"
             ],
             [
              0.4444444444444444,
              "#bd3786"
             ],
             [
              0.5555555555555556,
              "#d8576b"
             ],
             [
              0.6666666666666666,
              "#ed7953"
             ],
             [
              0.7777777777777778,
              "#fb9f3a"
             ],
             [
              0.8888888888888888,
              "#fdca26"
             ],
             [
              1,
              "#f0f921"
             ]
            ],
            "type": "histogram2d"
           }
          ],
          "histogram2dcontour": [
           {
            "colorbar": {
             "outlinewidth": 0,
             "ticks": ""
            },
            "colorscale": [
             [
              0,
              "#0d0887"
             ],
             [
              0.1111111111111111,
              "#46039f"
             ],
             [
              0.2222222222222222,
              "#7201a8"
             ],
             [
              0.3333333333333333,
              "#9c179e"
             ],
             [
              0.4444444444444444,
              "#bd3786"
             ],
             [
              0.5555555555555556,
              "#d8576b"
             ],
             [
              0.6666666666666666,
              "#ed7953"
             ],
             [
              0.7777777777777778,
              "#fb9f3a"
             ],
             [
              0.8888888888888888,
              "#fdca26"
             ],
             [
              1,
              "#f0f921"
             ]
            ],
            "type": "histogram2dcontour"
           }
          ],
          "mesh3d": [
           {
            "colorbar": {
             "outlinewidth": 0,
             "ticks": ""
            },
            "type": "mesh3d"
           }
          ],
          "parcoords": [
           {
            "line": {
             "colorbar": {
              "outlinewidth": 0,
              "ticks": ""
             }
            },
            "type": "parcoords"
           }
          ],
          "pie": [
           {
            "automargin": true,
            "type": "pie"
           }
          ],
          "scatter": [
           {
            "fillpattern": {
             "fillmode": "overlay",
             "size": 10,
             "solidity": 0.2
            },
            "type": "scatter"
           }
          ],
          "scatter3d": [
           {
            "line": {
             "colorbar": {
              "outlinewidth": 0,
              "ticks": ""
             }
            },
            "marker": {
             "colorbar": {
              "outlinewidth": 0,
              "ticks": ""
             }
            },
            "type": "scatter3d"
           }
          ],
          "scattercarpet": [
           {
            "marker": {
             "colorbar": {
              "outlinewidth": 0,
              "ticks": ""
             }
            },
            "type": "scattercarpet"
           }
          ],
          "scattergeo": [
           {
            "marker": {
             "colorbar": {
              "outlinewidth": 0,
              "ticks": ""
             }
            },
            "type": "scattergeo"
           }
          ],
          "scattergl": [
           {
            "marker": {
             "colorbar": {
              "outlinewidth": 0,
              "ticks": ""
             }
            },
            "type": "scattergl"
           }
          ],
          "scattermapbox": [
           {
            "marker": {
             "colorbar": {
              "outlinewidth": 0,
              "ticks": ""
             }
            },
            "type": "scattermapbox"
           }
          ],
          "scatterpolar": [
           {
            "marker": {
             "colorbar": {
              "outlinewidth": 0,
              "ticks": ""
             }
            },
            "type": "scatterpolar"
           }
          ],
          "scatterpolargl": [
           {
            "marker": {
             "colorbar": {
              "outlinewidth": 0,
              "ticks": ""
             }
            },
            "type": "scatterpolargl"
           }
          ],
          "scatterternary": [
           {
            "marker": {
             "colorbar": {
              "outlinewidth": 0,
              "ticks": ""
             }
            },
            "type": "scatterternary"
           }
          ],
          "surface": [
           {
            "colorbar": {
             "outlinewidth": 0,
             "ticks": ""
            },
            "colorscale": [
             [
              0,
              "#0d0887"
             ],
             [
              0.1111111111111111,
              "#46039f"
             ],
             [
              0.2222222222222222,
              "#7201a8"
             ],
             [
              0.3333333333333333,
              "#9c179e"
             ],
             [
              0.4444444444444444,
              "#bd3786"
             ],
             [
              0.5555555555555556,
              "#d8576b"
             ],
             [
              0.6666666666666666,
              "#ed7953"
             ],
             [
              0.7777777777777778,
              "#fb9f3a"
             ],
             [
              0.8888888888888888,
              "#fdca26"
             ],
             [
              1,
              "#f0f921"
             ]
            ],
            "type": "surface"
           }
          ],
          "table": [
           {
            "cells": {
             "fill": {
              "color": "#EBF0F8"
             },
             "line": {
              "color": "white"
             }
            },
            "header": {
             "fill": {
              "color": "#C8D4E3"
             },
             "line": {
              "color": "white"
             }
            },
            "type": "table"
           }
          ]
         },
         "layout": {
          "annotationdefaults": {
           "arrowcolor": "#2a3f5f",
           "arrowhead": 0,
           "arrowwidth": 1
          },
          "autotypenumbers": "strict",
          "coloraxis": {
           "colorbar": {
            "outlinewidth": 0,
            "ticks": ""
           }
          },
          "colorscale": {
           "diverging": [
            [
             0,
             "#8e0152"
            ],
            [
             0.1,
             "#c51b7d"
            ],
            [
             0.2,
             "#de77ae"
            ],
            [
             0.3,
             "#f1b6da"
            ],
            [
             0.4,
             "#fde0ef"
            ],
            [
             0.5,
             "#f7f7f7"
            ],
            [
             0.6,
             "#e6f5d0"
            ],
            [
             0.7,
             "#b8e186"
            ],
            [
             0.8,
             "#7fbc41"
            ],
            [
             0.9,
             "#4d9221"
            ],
            [
             1,
             "#276419"
            ]
           ],
           "sequential": [
            [
             0,
             "#0d0887"
            ],
            [
             0.1111111111111111,
             "#46039f"
            ],
            [
             0.2222222222222222,
             "#7201a8"
            ],
            [
             0.3333333333333333,
             "#9c179e"
            ],
            [
             0.4444444444444444,
             "#bd3786"
            ],
            [
             0.5555555555555556,
             "#d8576b"
            ],
            [
             0.6666666666666666,
             "#ed7953"
            ],
            [
             0.7777777777777778,
             "#fb9f3a"
            ],
            [
             0.8888888888888888,
             "#fdca26"
            ],
            [
             1,
             "#f0f921"
            ]
           ],
           "sequentialminus": [
            [
             0,
             "#0d0887"
            ],
            [
             0.1111111111111111,
             "#46039f"
            ],
            [
             0.2222222222222222,
             "#7201a8"
            ],
            [
             0.3333333333333333,
             "#9c179e"
            ],
            [
             0.4444444444444444,
             "#bd3786"
            ],
            [
             0.5555555555555556,
             "#d8576b"
            ],
            [
             0.6666666666666666,
             "#ed7953"
            ],
            [
             0.7777777777777778,
             "#fb9f3a"
            ],
            [
             0.8888888888888888,
             "#fdca26"
            ],
            [
             1,
             "#f0f921"
            ]
           ]
          },
          "colorway": [
           "#636efa",
           "#EF553B",
           "#00cc96",
           "#ab63fa",
           "#FFA15A",
           "#19d3f3",
           "#FF6692",
           "#B6E880",
           "#FF97FF",
           "#FECB52"
          ],
          "font": {
           "color": "#2a3f5f"
          },
          "geo": {
           "bgcolor": "white",
           "lakecolor": "white",
           "landcolor": "#E5ECF6",
           "showlakes": true,
           "showland": true,
           "subunitcolor": "white"
          },
          "hoverlabel": {
           "align": "left"
          },
          "hovermode": "closest",
          "mapbox": {
           "style": "light"
          },
          "paper_bgcolor": "white",
          "plot_bgcolor": "#E5ECF6",
          "polar": {
           "angularaxis": {
            "gridcolor": "white",
            "linecolor": "white",
            "ticks": ""
           },
           "bgcolor": "#E5ECF6",
           "radialaxis": {
            "gridcolor": "white",
            "linecolor": "white",
            "ticks": ""
           }
          },
          "scene": {
           "xaxis": {
            "backgroundcolor": "#E5ECF6",
            "gridcolor": "white",
            "gridwidth": 2,
            "linecolor": "white",
            "showbackground": true,
            "ticks": "",
            "zerolinecolor": "white"
           },
           "yaxis": {
            "backgroundcolor": "#E5ECF6",
            "gridcolor": "white",
            "gridwidth": 2,
            "linecolor": "white",
            "showbackground": true,
            "ticks": "",
            "zerolinecolor": "white"
           },
           "zaxis": {
            "backgroundcolor": "#E5ECF6",
            "gridcolor": "white",
            "gridwidth": 2,
            "linecolor": "white",
            "showbackground": true,
            "ticks": "",
            "zerolinecolor": "white"
           }
          },
          "shapedefaults": {
           "line": {
            "color": "#2a3f5f"
           }
          },
          "ternary": {
           "aaxis": {
            "gridcolor": "white",
            "linecolor": "white",
            "ticks": ""
           },
           "baxis": {
            "gridcolor": "white",
            "linecolor": "white",
            "ticks": ""
           },
           "bgcolor": "#E5ECF6",
           "caxis": {
            "gridcolor": "white",
            "linecolor": "white",
            "ticks": ""
           }
          },
          "title": {
           "x": 0.05
          },
          "xaxis": {
           "automargin": true,
           "gridcolor": "white",
           "linecolor": "white",
           "ticks": "",
           "title": {
            "standoff": 15
           },
           "zerolinecolor": "white",
           "zerolinewidth": 2
          },
          "yaxis": {
           "automargin": true,
           "gridcolor": "white",
           "linecolor": "white",
           "ticks": "",
           "title": {
            "standoff": 15
           },
           "zerolinecolor": "white",
           "zerolinewidth": 2
          }
         }
        },
        "title": {
         "text": "Top Non-Violent Crimes in 2022 vs 2023"
        },
        "xaxis": {
         "anchor": "y",
         "domain": [
          0,
          1
         ],
         "title": {
          "text": "Year"
         }
        },
        "yaxis": {
         "anchor": "x",
         "domain": [
          0,
          1
         ],
         "title": {
          "text": "Count"
         }
        }
       }
      }
     },
     "metadata": {},
     "output_type": "display_data"
    }
   ],
   "source": [
    "import pandas as pd\n",
    "import plotly.express as px\n",
    "\n",
    "# Group and count offenses for Violent and Non-Violent crimes\n",
    "violent_top = df_2022[df_2022['Crime_Category'] == 'Violent']['offense'].value_counts().nlargest(4)\n",
    "non_violent_top = df_2022[df_2022['Crime_Category'] == 'Non-Violent']['offense'].value_counts().nlargest(4)\n",
    "\n",
    "# Create 'Other' category for violent crimes\n",
    "violent_counts_2022 = df_2022[df_2022['Crime_Category'] == 'Violent']['offense'].value_counts()\n",
    "violent_counts_2023 = df_2023[df_2023['Crime_Category'] == 'Violent']['offense'].value_counts()\n",
    "\n",
    "violent_top_2022 = violent_counts_2022.nlargest(4)\n",
    "violent_top_2023 = violent_counts_2023.nlargest(4)\n",
    "\n",
    "violent_other_2022 = violent_counts_2022.sum() - violent_top_2022.sum()\n",
    "violent_other_2023 = violent_counts_2023.sum() - violent_top_2023.sum()\n",
    "\n",
    "# Prepare Data for Violent Crimes plot\n",
    "violent_data = {\n",
    "    'Year': ['2022', '2022', '2022', '2022', '2022', '2023', '2023', '2023', '2023', '2023'],\n",
    "    'Offense': list(violent_top_2022.index) + ['Other'] + list(violent_top_2023.index) + ['Other'],\n",
    "    'Count': list(violent_top_2022.values) + [violent_other_2022] + list(violent_top_2023.values) + [violent_other_2023]\n",
    "}\n",
    "\n",
    "df_violent_data = pd.DataFrame(violent_data)\n",
    "\n",
    "# Plot for Violent Crimes\n",
    "fig_violent = px.bar(df_violent_data, x='Year', y='Count', color='Offense', barmode='group',\n",
    "             title='Top Violent Crimes in 2022 vs 2023')\n",
    "fig_violent.show()\n",
    "\n",
    "# Repeat the same process for Non-Violent Crimes\n",
    "non_violent_counts_2022 = df_2022[df_2022['Crime_Category'] == 'Non-Violent']['offense'].value_counts()\n",
    "non_violent_counts_2023 = df_2023[df_2023['Crime_Category'] == 'Non-Violent']['offense'].value_counts()\n",
    "\n",
    "non_violent_top_2022 = non_violent_counts_2022.nlargest(4)\n",
    "non_violent_top_2023 = non_violent_counts_2023.nlargest(4)\n",
    "\n",
    "non_violent_other_2022 = non_violent_counts_2022.sum() - non_violent_top_2022.sum()\n",
    "non_violent_other_2023 = non_violent_counts_2023.sum() - non_violent_top_2023.sum()\n",
    "\n",
    "# Prepare Data for Non-Violent Crimes plot\n",
    "non_violent_data = {\n",
    "    'Year': ['2022', '2022', '2022', '2022', '2022', '2023', '2023', '2023', '2023', '2023'],\n",
    "    'Offense': list(non_violent_top_2022.index) + ['Other'] + list(non_violent_top_2023.index) + ['Other'],\n",
    "    'Count': list(non_violent_top_2022.values) + [non_violent_other_2022] + list(non_violent_top_2023.values) + [non_violent_other_2023]\n",
    "}\n",
    "\n",
    "df_non_violent_data = pd.DataFrame(non_violent_data)\n",
    "\n",
    "# Plot for Non-Violent Crimes\n",
    "fig_non_violent = px.bar(df_non_violent_data, x='Year', y='Count', color='Offense', barmode='group',\n",
    "             title='Top Non-Violent Crimes in 2022 vs 2023')\n",
    "fig_non_violent.show()\n"
   ]
  },
  {
   "cell_type": "code",
   "execution_count": 40,
   "metadata": {},
   "outputs": [
    {
     "name": "stdout",
     "output_type": "stream",
     "text": [
      "         2022  2023  Change (%)\n",
      "offense                        \n",
      "ABSVAR      2     1  -50.000000\n",
      "ADLTTN     16    20   25.000000\n",
      "ASLT1      22    16  -27.272727\n",
      "ASLT2    1221  1195   -2.129402\n",
      "ASLT3     183   152  -16.939891\n",
      "ASLT4      82   108   31.707317\n",
      "CARJCK    518   300  -42.084942\n",
      "CSCR      321   342    6.542056\n",
      "DASLT1      1     2  100.000000\n",
      "DASLT2    443   415   -6.320542\n",
      "DASLT3     60    88   46.666667\n",
      "DASTR     403   404    0.248139\n",
      "JHOMIC      3     1  -66.666667\n",
      "MURDR      77    69  -10.389610\n",
      "ROBBIZ    115   100  -13.043478\n",
      "ROBPAG    700   637   -9.000000\n",
      "ROBPER    445   395  -11.235955\n",
      "         2022  2023  Change (%)\n",
      "offense                        \n",
      "ARSON      98   126   28.571429\n",
      "AUTOTH   6089  7694   26.359008\n",
      "BIKETF   1125  1020   -9.333333\n",
      "BURGB     943   800  -15.164369\n",
      "BURGD    1635  1809   10.642202\n",
      "COINOP      1     2  100.000000\n",
      "COMPUT      5     3  -40.000000\n",
      "DISARM      1     1    0.000000\n",
      "MVTHFT     16    19   18.750000\n",
      "NOPAY       1     1    0.000000\n",
      "ONLTHT     28    35   25.000000\n",
      "PETIT       5     3  -40.000000\n",
      "POCKET      2     3   50.000000\n",
      "SCRAP       1     1    0.000000\n",
      "SHOPLF    682   585  -14.222874\n",
      "TBLDG      98    96   -2.040816\n",
      "TFMV     3613  3682    1.909770\n",
      "TFPER     148    89  -39.864865\n",
      "THEFT    3827  3552   -7.185785\n",
      "THFTSW    344   418   21.511628\n",
      "TMVP     3238  1806  -44.224830\n",
      "WLKOFF     14    23   64.285714\n"
     ]
    }
   ],
   "source": [
    "import pandas as pd\n",
    "\n",
    "# Compare violent offenses between 2022 and 2023\n",
    "violent_counts_2022 = df_2022[df_2022['Crime_Category'] == 'Violent']['offense'].value_counts()\n",
    "violent_counts_2023 = df_2023[df_2023['Crime_Category'] == 'Violent']['offense'].value_counts()\n",
    "\n",
    "# Merge 2022 and 2023 data into a single dataframe for side-by-side comparison\n",
    "violent_comparison = pd.DataFrame({\n",
    "    '2022': violent_counts_2022,\n",
    "    '2023': violent_counts_2023\n",
    "}).fillna(0)  # Fill NaN with 0 for offenses not recorded in one year\n",
    "\n",
    "# Calculate the percentage change (up or down)\n",
    "violent_comparison['Change (%)'] = ((violent_comparison['2023'] - violent_comparison['2022']) / violent_comparison['2022']) * 100\n",
    "\n",
    "# Avoid using `inplace=True`. Instead, assign the fixed column back.\n",
    "violent_comparison['Change (%)'] = violent_comparison['Change (%)'].replace([float('inf'), -float('inf')], 0)\n",
    "violent_comparison['Change (%)'] = violent_comparison['Change (%)'].fillna(0)  # Handle NaN if 2022 = 0\n",
    "\n",
    "# Show the comparison with percentage change for violent crimes\n",
    "print(violent_comparison)\n",
    "\n",
    "# Repeat the process for non-violent offenses\n",
    "non_violent_counts_2022 = df_2022[df_2022['Crime_Category'] == 'Non-Violent']['offense'].value_counts()\n",
    "non_violent_counts_2023 = df_2023[df_2023['Crime_Category'] == 'Non-Violent']['offense'].value_counts()\n",
    "\n",
    "non_violent_comparison = pd.DataFrame({\n",
    "    '2022': non_violent_counts_2022,\n",
    "    '2023': non_violent_counts_2023\n",
    "}).fillna(0)  # Fill NaN with 0 for offenses not recorded in one year\n",
    "\n",
    "# Calculate the percentage change (up or down)\n",
    "non_violent_comparison['Change (%)'] = ((non_violent_comparison['2023'] - non_violent_comparison['2022']) / non_violent_comparison['2022']) * 100\n",
    "\n",
    "# Avoid using `inplace=True`. Instead, assign the fixed column back.\n",
    "non_violent_comparison['Change (%)'] = non_violent_comparison['Change (%)'].replace([float('inf'), -float('inf')], 0)\n",
    "non_violent_comparison['Change (%)'] = non_violent_comparison['Change (%)'].fillna(0)  # Handle NaN if 2022 = 0\n",
    "\n",
    "# Show the comparison with percentage change for non-violent crimes\n",
    "print(non_violent_comparison)\n"
   ]
  },
  {
   "cell_type": "code",
   "execution_count": 43,
   "metadata": {},
   "outputs": [
    {
     "name": "stdout",
     "output_type": "stream",
     "text": [
      "         2022  2023  Change (%)                                  Description\n",
      "offense                                                                     \n",
      "ASLT2    1221  1195   -2.129402                 Assault in the second degree\n",
      "ROBPAG    700   637   -9.000000                           Robbery with a gun\n",
      "CARJCK    518   300  -42.084942                                   Carjacking\n",
      "ROBPER    445   395  -11.235955                             Personal robbery\n",
      "DASLT2    443   415   -6.320542        Domestic assault in the second degree\n",
      "DASTR     403   404    0.248139     Domestic assault involving strangulation\n",
      "CSCR      321   342    6.542056                 Criminal sexual conduct/rape\n",
      "ASLT3     183   152  -16.939891                  Assault in the third degree\n",
      "ROBBIZ    115   100  -13.043478                        Robbery of a business\n",
      "ASLT4      82   108   31.707317                 Assault in the fourth degree\n",
      "MURDR      77    69  -10.389610                                       Murder\n",
      "DASLT3     60    88   46.666667         Domestic assault in the third degree\n",
      "ASLT1      22    16  -27.272727                  Assault in the first degree\n",
      "ADLTTN     16    20   25.000000          Adult in need of protection/neglect\n",
      "JHOMIC      3     1  -66.666667                            Juvenile homicide\n",
      "ABSVAR      2     1  -50.000000  Sexual assault involving a vulnerable adult\n",
      "DASLT1      1     2  100.000000         Domestic assault in the first degree\n",
      "\n",
      "\n",
      "         2022  2023  Change (%)                                  Description\n",
      "offense                                                                     \n",
      "AUTOTH   6089  7694   26.359008                                   Auto theft\n",
      "THEFT    3827  3552   -7.185785                                General theft\n",
      "TFMV     3613  3682    1.909770                     Theft from motor vehicle\n",
      "TMVP     3238  1806  -44.224830                 Theft of motor vehicle parts\n",
      "BURGD    1635  1809   10.642202                       Burglary of a dwelling\n",
      "BIKETF   1125  1020   -9.333333                                Bicycle theft\n",
      "BURGB     943   800  -15.164369                       Burglary of a business\n",
      "SHOPLF    682   585  -14.222874                                  Shoplifting\n",
      "THFTSW    344   418   21.511628                            Theft of services\n",
      "TFPER     148    89  -39.864865                            Theft from person\n",
      "TBLDG      98    96   -2.040816                          Theft from building\n",
      "ARSON      98   126   28.571429                                        Arson\n",
      "ONLTHT     28    35   25.000000                                 Online theft\n",
      "MVTHFT     16    19   18.750000                          Motor vehicle theft\n",
      "WLKOFF     14    23   64.285714                   Walking off without paying\n",
      "COMPUT      5     3  -40.000000                       Computer-related crime\n",
      "PETIT       5     3  -40.000000                                  Petty theft\n",
      "POCKET      2     3   50.000000                                Pickpocketing\n",
      "COINOP      1     2  100.000000                  Coin-operated machine theft\n",
      "SCRAP       1     1    0.000000                            Scrap metal theft\n",
      "DISARM      1     1    0.000000                   Disarming a police officer\n",
      "NOPAY       1     1    0.000000                       Failure to pay (theft)\n"
     ]
    }
   ],
   "source": [
    "# Import necessary libraries\n",
    "import pandas as pd\n",
    "\n",
    "# Create a dictionary mapping each offense code to its description\n",
    "offense_descriptions = {\n",
    "    'ABSVAR': 'Sexual assault involving a vulnerable adult',\n",
    "    'ADLTTN': 'Adult in need of protection/neglect',\n",
    "    'ASLT1': 'Assault in the first degree',\n",
    "    'ASLT2': 'Assault in the second degree',\n",
    "    'ASLT3': 'Assault in the third degree',\n",
    "    'ASLT4': 'Assault in the fourth degree',\n",
    "    'CARJCK': 'Carjacking',\n",
    "    'CSCR': 'Criminal sexual conduct/rape',\n",
    "    'DASLT1': 'Domestic assault in the first degree',\n",
    "    'DASLT2': 'Domestic assault in the second degree',\n",
    "    'DASLT3': 'Domestic assault in the third degree',\n",
    "    'DASTR': 'Domestic assault involving strangulation',\n",
    "    'JHOMIC': 'Juvenile homicide',\n",
    "    'MURDR': 'Murder',\n",
    "    'ROBBIZ': 'Robbery of a business',\n",
    "    'ROBPAG': 'Robbery with a gun',\n",
    "    'ROBPER': 'Personal robbery',\n",
    "    'ARSON': 'Arson',\n",
    "    'AUTOTH': 'Auto theft',\n",
    "    'BIKETF': 'Bicycle theft',\n",
    "    'BURGB': 'Burglary of a business',\n",
    "    'BURGD': 'Burglary of a dwelling',\n",
    "    'COINOP': 'Coin-operated machine theft',\n",
    "    'COMPUT': 'Computer-related crime',\n",
    "    'DISARM': 'Disarming a police officer',\n",
    "    'MVTHFT': 'Motor vehicle theft',\n",
    "    'NOPAY': 'Failure to pay (theft)',\n",
    "    'ONLTHT': 'Online theft',\n",
    "    'PETIT': 'Petty theft',\n",
    "    'POCKET': 'Pickpocketing',\n",
    "    'SCRAP': 'Scrap metal theft',\n",
    "    'SHOPLF': 'Shoplifting',\n",
    "    'TBLDG': 'Theft from building',\n",
    "    'TFMV': 'Theft from motor vehicle',\n",
    "    'TFPER': 'Theft from person',\n",
    "    'THEFT': 'General theft',\n",
    "    'THFTSW': 'Theft of services',\n",
    "    'TMVP': 'Theft of motor vehicle parts',\n",
    "    'WLKOFF': 'Walking off without paying'\n",
    "}\n",
    "\n",
    "# Add the 'Description' column to both comparison DataFrames\n",
    "violent_comparison['Description'] = violent_comparison.index.map(offense_descriptions)\n",
    "non_violent_comparison['Description'] = non_violent_comparison.index.map(offense_descriptions)\n",
    "\n",
    "# Determine the maximum length of any description for alignment\n",
    "max_len = max(violent_comparison['Description'].map(len).max(), non_violent_comparison['Description'].map(len).max())\n",
    "\n",
    "# Right-justify the 'Description' column to the maximum length\n",
    "violent_comparison['Description'] = violent_comparison['Description'].str.rjust(max_len)\n",
    "non_violent_comparison['Description'] = non_violent_comparison['Description'].str.rjust(max_len)\n",
    "\n",
    "# Sort both DataFrames by the '2022' column in descending order\n",
    "violent_comparison = violent_comparison.sort_values(by='2022', ascending=False)\n",
    "non_violent_comparison = non_violent_comparison.sort_values(by='2022', ascending=False)\n",
    "\n",
    "# Display the updated comparison DataFrames\n",
    "print(violent_comparison)\n",
    "print('\\n')\n",
    "print(non_violent_comparison)\n"
   ]
  },
  {
   "cell_type": "code",
   "execution_count": 48,
   "metadata": {},
   "outputs": [
    {
     "name": "stdout",
     "output_type": "stream",
     "text": [
      "         2022   2023  Change (%)                                  Description\n",
      "Total    9224   8490   -7.957502                                             \n",
      "Total    4612   4245   -7.957502                                             \n",
      "ASLT2    1221   1195   -2.129402                 Assault in the second degree\n",
      "ROBPAG    700    637   -9.000000                           Robbery with a gun\n",
      "CARJCK    518    300  -42.084942                                   Carjacking\n",
      "ROBPER    445    395  -11.235955                             Personal robbery\n",
      "DASLT2    443    415   -6.320542        Domestic assault in the second degree\n",
      "DASTR     403    404    0.248139     Domestic assault involving strangulation\n",
      "CSCR      321    342    6.542056                 Criminal sexual conduct/rape\n",
      "ASLT3     183    152  -16.939891                  Assault in the third degree\n",
      "ROBBIZ    115    100  -13.043478                        Robbery of a business\n",
      "ASLT4      82    108   31.707317                 Assault in the fourth degree\n",
      "MURDR      77     69  -10.389610                                       Murder\n",
      "DASLT3     60     88   46.666667         Domestic assault in the third degree\n",
      "ASLT1      22     16  -27.272727                  Assault in the first degree\n",
      "ADLTTN     16     20   25.000000          Adult in need of protection/neglect\n",
      "JHOMIC      3      1  -66.666667                            Juvenile homicide\n",
      "ABSVAR      2      1  -50.000000  Sexual assault involving a vulnerable adult\n",
      "DASLT1      1      2  100.000000         Domestic assault in the first degree\n",
      "Total   18448  16980   -7.957502                        Overall Violent Crime\n",
      "\n",
      "\n",
      "         2022   2023  Change (%)                                  Description\n",
      "Total   43828  43536   -0.666241                                             \n",
      "Total   21914  21768   -0.666241                                             \n",
      "AUTOTH   6089   7694   26.359008                                   Auto theft\n",
      "THEFT    3827   3552   -7.185785                                General theft\n",
      "TFMV     3613   3682    1.909770                     Theft from motor vehicle\n",
      "TMVP     3238   1806  -44.224830                 Theft of motor vehicle parts\n",
      "BURGD    1635   1809   10.642202                       Burglary of a dwelling\n",
      "BIKETF   1125   1020   -9.333333                                Bicycle theft\n",
      "BURGB     943    800  -15.164369                       Burglary of a business\n",
      "SHOPLF    682    585  -14.222874                                  Shoplifting\n",
      "THFTSW    344    418   21.511628                            Theft of services\n",
      "TFPER     148     89  -39.864865                            Theft from person\n",
      "TBLDG      98     96   -2.040816                          Theft from building\n",
      "ARSON      98    126   28.571429                                        Arson\n",
      "ONLTHT     28     35   25.000000                                 Online theft\n",
      "MVTHFT     16     19   18.750000                          Motor vehicle theft\n",
      "WLKOFF     14     23   64.285714                   Walking off without paying\n",
      "COMPUT      5      3  -40.000000                       Computer-related crime\n",
      "PETIT       5      3  -40.000000                                  Petty theft\n",
      "POCKET      2      3   50.000000                                Pickpocketing\n",
      "COINOP      1      2  100.000000                  Coin-operated machine theft\n",
      "SCRAP       1      1    0.000000                            Scrap metal theft\n",
      "DISARM      1      1    0.000000                   Disarming a police officer\n",
      "NOPAY       1      1    0.000000                       Failure to pay (theft)\n",
      "Total   87656  87072   -0.666241                    Overall Non-Violent Crime\n"
     ]
    }
   ],
   "source": [
    "import pandas as pd\n",
    "\n",
    "# Create a dictionary mapping each offense code to its description\n",
    "offense_descriptions = {\n",
    "    'ABSVAR': 'Sexual assault involving a vulnerable adult',\n",
    "    'ADLTTN': 'Adult in need of protection/neglect',\n",
    "    'ASLT1': 'Assault in the first degree',\n",
    "    'ASLT2': 'Assault in the second degree',\n",
    "    'ASLT3': 'Assault in the third degree',\n",
    "    'ASLT4': 'Assault in the fourth degree',\n",
    "    'CARJCK': 'Carjacking',\n",
    "    'CSCR': 'Criminal sexual conduct/rape',\n",
    "    'DASLT1': 'Domestic assault in the first degree',\n",
    "    'DASLT2': 'Domestic assault in the second degree',\n",
    "    'DASLT3': 'Domestic assault in the third degree',\n",
    "    'DASTR': 'Domestic assault involving strangulation',\n",
    "    'JHOMIC': 'Juvenile homicide',\n",
    "    'MURDR': 'Murder',\n",
    "    'ROBBIZ': 'Robbery of a business',\n",
    "    'ROBPAG': 'Robbery with a gun',\n",
    "    'ROBPER': 'Personal robbery',\n",
    "    'ARSON': 'Arson',\n",
    "    'AUTOTH': 'Auto theft',\n",
    "    'BIKETF': 'Bicycle theft',\n",
    "    'BURGB': 'Burglary of a business',\n",
    "    'BURGD': 'Burglary of a dwelling',\n",
    "    'COINOP': 'Coin-operated machine theft',\n",
    "    'COMPUT': 'Computer-related crime',\n",
    "    'DISARM': 'Disarming a police officer',\n",
    "    'MVTHFT': 'Motor vehicle theft',\n",
    "    'NOPAY': 'Failure to pay (theft)',\n",
    "    'ONLTHT': 'Online theft',\n",
    "    'PETIT': 'Petty theft',\n",
    "    'POCKET': 'Pickpocketing',\n",
    "    'SCRAP': 'Scrap metal theft',\n",
    "    'SHOPLF': 'Shoplifting',\n",
    "    'TBLDG': 'Theft from building',\n",
    "    'TFMV': 'Theft from motor vehicle',\n",
    "    'TFPER': 'Theft from person',\n",
    "    'THEFT': 'General theft',\n",
    "    'THFTSW': 'Theft of services',\n",
    "    'TMVP': 'Theft of motor vehicle parts',\n",
    "    'WLKOFF': 'Walking off without paying'\n",
    "}\n",
    "\n",
    "# Add the 'Description' column to both comparison DataFrames\n",
    "violent_comparison['Description'] = violent_comparison.index.map(offense_descriptions)\n",
    "non_violent_comparison['Description'] = non_violent_comparison.index.map(offense_descriptions)\n",
    "\n",
    "# Fill NaN values with empty strings to avoid 'float' errors\n",
    "violent_comparison['Description'] = violent_comparison['Description'].fillna('')\n",
    "non_violent_comparison['Description'] = non_violent_comparison['Description'].fillna('')\n",
    "\n",
    "# Determine the maximum length of any description for alignment\n",
    "max_len = max(violent_comparison['Description'].map(len).max(), non_violent_comparison['Description'].map(len).max())\n",
    "\n",
    "# Right-justify the 'Description' column to the maximum length\n",
    "violent_comparison['Description'] = violent_comparison['Description'].str.rjust(max_len)\n",
    "non_violent_comparison['Description'] = non_violent_comparison['Description'].str.rjust(max_len)\n",
    "\n",
    "# Sort both DataFrames by the '2022' column in descending order\n",
    "violent_comparison = violent_comparison.sort_values(by='2022', ascending=False)\n",
    "non_violent_comparison = non_violent_comparison.sort_values(by='2022', ascending=False)\n",
    "\n",
    "# Calculate overall violent crime for 2022 and 2023\n",
    "total_violent_2022 = violent_comparison['2022'].sum()\n",
    "total_violent_2023 = violent_comparison['2023'].sum()\n",
    "violent_change = ((total_violent_2023 - total_violent_2022) / total_violent_2022) * 100\n",
    "\n",
    "# Calculate overall non-violent crime for 2022 and 2023\n",
    "total_non_violent_2022 = non_violent_comparison['2022'].sum()\n",
    "total_non_violent_2023 = non_violent_comparison['2023'].sum()\n",
    "non_violent_change = ((total_non_violent_2023 - total_non_violent_2022) / total_non_violent_2022) * 100\n",
    "\n",
    "# Create summary row for violent and non-violent crimes\n",
    "summary_violent = pd.DataFrame({\n",
    "    '2022': [total_violent_2022],\n",
    "    '2023': [total_violent_2023],\n",
    "    'Change (%)': [violent_change],\n",
    "    'Description': ['Overall Violent Crime'.rjust(max_len)]\n",
    "}, index=['Total'])\n",
    "\n",
    "summary_non_violent = pd.DataFrame({\n",
    "    '2022': [total_non_violent_2022],\n",
    "    '2023': [total_non_violent_2023],\n",
    "    'Change (%)': [non_violent_change],\n",
    "    'Description': ['Overall Non-Violent Crime'.rjust(max_len)]\n",
    "}, index=['Total'])\n",
    "\n",
    "# Append the summary rows to the respective comparison DataFrames\n",
    "violent_comparison = pd.concat([violent_comparison, summary_violent])\n",
    "non_violent_comparison = pd.concat([non_violent_comparison, summary_non_violent])\n",
    "\n",
    "# Display the updated comparison DataFrames\n",
    "print(violent_comparison)\n",
    "print('\\n')\n",
    "print(non_violent_comparison)\n"
   ]
  },
  {
   "cell_type": "code",
   "execution_count": 38,
   "metadata": {},
   "outputs": [
    {
     "data": {
      "application/vnd.plotly.v1+json": {
       "config": {
        "plotlyServerURL": "https://plot.ly"
       },
       "data": [
        {
         "alignmentgroup": "True",
         "hovertemplate": "Offense=ASLT2<br>Year=%{x}<br>Count=%{y}<extra></extra>",
         "legendgroup": "ASLT2",
         "marker": {
          "color": "#636efa",
          "pattern": {
           "shape": ""
          }
         },
         "name": "ASLT2",
         "offsetgroup": "ASLT2",
         "orientation": "v",
         "showlegend": true,
         "textposition": "auto",
         "type": "bar",
         "x": [
          "2022",
          "2023"
         ],
         "xaxis": "x",
         "y": [
          1221,
          1195
         ],
         "yaxis": "y"
        },
        {
         "alignmentgroup": "True",
         "hovertemplate": "Offense=ROBPAG<br>Year=%{x}<br>Count=%{y}<extra></extra>",
         "legendgroup": "ROBPAG",
         "marker": {
          "color": "#EF553B",
          "pattern": {
           "shape": ""
          }
         },
         "name": "ROBPAG",
         "offsetgroup": "ROBPAG",
         "orientation": "v",
         "showlegend": true,
         "textposition": "auto",
         "type": "bar",
         "x": [
          "2022",
          "2023"
         ],
         "xaxis": "x",
         "y": [
          700,
          637
         ],
         "yaxis": "y"
        },
        {
         "alignmentgroup": "True",
         "hovertemplate": "Offense=CARJCK<br>Year=%{x}<br>Count=%{y}<extra></extra>",
         "legendgroup": "CARJCK",
         "marker": {
          "color": "#00cc96",
          "pattern": {
           "shape": ""
          }
         },
         "name": "CARJCK",
         "offsetgroup": "CARJCK",
         "orientation": "v",
         "showlegend": true,
         "textposition": "auto",
         "type": "bar",
         "x": [
          "2022",
          "2023"
         ],
         "xaxis": "x",
         "y": [
          518,
          300
         ],
         "yaxis": "y"
        },
        {
         "alignmentgroup": "True",
         "hovertemplate": "Offense=ROBPER<br>Year=%{x}<br>Count=%{y}<extra></extra>",
         "legendgroup": "ROBPER",
         "marker": {
          "color": "#ab63fa",
          "pattern": {
           "shape": ""
          }
         },
         "name": "ROBPER",
         "offsetgroup": "ROBPER",
         "orientation": "v",
         "showlegend": true,
         "textposition": "auto",
         "type": "bar",
         "x": [
          "2022",
          "2023"
         ],
         "xaxis": "x",
         "y": [
          445,
          395
         ],
         "yaxis": "y"
        },
        {
         "alignmentgroup": "True",
         "hovertemplate": "Offense=Other<br>Year=%{x}<br>Count=%{y}<extra></extra>",
         "legendgroup": "Other",
         "marker": {
          "color": "#FFA15A",
          "pattern": {
           "shape": ""
          }
         },
         "name": "Other",
         "offsetgroup": "Other",
         "orientation": "v",
         "showlegend": true,
         "textposition": "auto",
         "type": "bar",
         "x": [
          "2022",
          "2023"
         ],
         "xaxis": "x",
         "y": [
          1728,
          1718
         ],
         "yaxis": "y"
        }
       ],
       "layout": {
        "barmode": "group",
        "legend": {
         "title": {
          "text": "Offense"
         },
         "tracegroupgap": 0
        },
        "template": {
         "data": {
          "bar": [
           {
            "error_x": {
             "color": "#2a3f5f"
            },
            "error_y": {
             "color": "#2a3f5f"
            },
            "marker": {
             "line": {
              "color": "#E5ECF6",
              "width": 0.5
             },
             "pattern": {
              "fillmode": "overlay",
              "size": 10,
              "solidity": 0.2
             }
            },
            "type": "bar"
           }
          ],
          "barpolar": [
           {
            "marker": {
             "line": {
              "color": "#E5ECF6",
              "width": 0.5
             },
             "pattern": {
              "fillmode": "overlay",
              "size": 10,
              "solidity": 0.2
             }
            },
            "type": "barpolar"
           }
          ],
          "carpet": [
           {
            "aaxis": {
             "endlinecolor": "#2a3f5f",
             "gridcolor": "white",
             "linecolor": "white",
             "minorgridcolor": "white",
             "startlinecolor": "#2a3f5f"
            },
            "baxis": {
             "endlinecolor": "#2a3f5f",
             "gridcolor": "white",
             "linecolor": "white",
             "minorgridcolor": "white",
             "startlinecolor": "#2a3f5f"
            },
            "type": "carpet"
           }
          ],
          "choropleth": [
           {
            "colorbar": {
             "outlinewidth": 0,
             "ticks": ""
            },
            "type": "choropleth"
           }
          ],
          "contour": [
           {
            "colorbar": {
             "outlinewidth": 0,
             "ticks": ""
            },
            "colorscale": [
             [
              0,
              "#0d0887"
             ],
             [
              0.1111111111111111,
              "#46039f"
             ],
             [
              0.2222222222222222,
              "#7201a8"
             ],
             [
              0.3333333333333333,
              "#9c179e"
             ],
             [
              0.4444444444444444,
              "#bd3786"
             ],
             [
              0.5555555555555556,
              "#d8576b"
             ],
             [
              0.6666666666666666,
              "#ed7953"
             ],
             [
              0.7777777777777778,
              "#fb9f3a"
             ],
             [
              0.8888888888888888,
              "#fdca26"
             ],
             [
              1,
              "#f0f921"
             ]
            ],
            "type": "contour"
           }
          ],
          "contourcarpet": [
           {
            "colorbar": {
             "outlinewidth": 0,
             "ticks": ""
            },
            "type": "contourcarpet"
           }
          ],
          "heatmap": [
           {
            "colorbar": {
             "outlinewidth": 0,
             "ticks": ""
            },
            "colorscale": [
             [
              0,
              "#0d0887"
             ],
             [
              0.1111111111111111,
              "#46039f"
             ],
             [
              0.2222222222222222,
              "#7201a8"
             ],
             [
              0.3333333333333333,
              "#9c179e"
             ],
             [
              0.4444444444444444,
              "#bd3786"
             ],
             [
              0.5555555555555556,
              "#d8576b"
             ],
             [
              0.6666666666666666,
              "#ed7953"
             ],
             [
              0.7777777777777778,
              "#fb9f3a"
             ],
             [
              0.8888888888888888,
              "#fdca26"
             ],
             [
              1,
              "#f0f921"
             ]
            ],
            "type": "heatmap"
           }
          ],
          "heatmapgl": [
           {
            "colorbar": {
             "outlinewidth": 0,
             "ticks": ""
            },
            "colorscale": [
             [
              0,
              "#0d0887"
             ],
             [
              0.1111111111111111,
              "#46039f"
             ],
             [
              0.2222222222222222,
              "#7201a8"
             ],
             [
              0.3333333333333333,
              "#9c179e"
             ],
             [
              0.4444444444444444,
              "#bd3786"
             ],
             [
              0.5555555555555556,
              "#d8576b"
             ],
             [
              0.6666666666666666,
              "#ed7953"
             ],
             [
              0.7777777777777778,
              "#fb9f3a"
             ],
             [
              0.8888888888888888,
              "#fdca26"
             ],
             [
              1,
              "#f0f921"
             ]
            ],
            "type": "heatmapgl"
           }
          ],
          "histogram": [
           {
            "marker": {
             "pattern": {
              "fillmode": "overlay",
              "size": 10,
              "solidity": 0.2
             }
            },
            "type": "histogram"
           }
          ],
          "histogram2d": [
           {
            "colorbar": {
             "outlinewidth": 0,
             "ticks": ""
            },
            "colorscale": [
             [
              0,
              "#0d0887"
             ],
             [
              0.1111111111111111,
              "#46039f"
             ],
             [
              0.2222222222222222,
              "#7201a8"
             ],
             [
              0.3333333333333333,
              "#9c179e"
             ],
             [
              0.4444444444444444,
              "#bd3786"
             ],
             [
              0.5555555555555556,
              "#d8576b"
             ],
             [
              0.6666666666666666,
              "#ed7953"
             ],
             [
              0.7777777777777778,
              "#fb9f3a"
             ],
             [
              0.8888888888888888,
              "#fdca26"
             ],
             [
              1,
              "#f0f921"
             ]
            ],
            "type": "histogram2d"
           }
          ],
          "histogram2dcontour": [
           {
            "colorbar": {
             "outlinewidth": 0,
             "ticks": ""
            },
            "colorscale": [
             [
              0,
              "#0d0887"
             ],
             [
              0.1111111111111111,
              "#46039f"
             ],
             [
              0.2222222222222222,
              "#7201a8"
             ],
             [
              0.3333333333333333,
              "#9c179e"
             ],
             [
              0.4444444444444444,
              "#bd3786"
             ],
             [
              0.5555555555555556,
              "#d8576b"
             ],
             [
              0.6666666666666666,
              "#ed7953"
             ],
             [
              0.7777777777777778,
              "#fb9f3a"
             ],
             [
              0.8888888888888888,
              "#fdca26"
             ],
             [
              1,
              "#f0f921"
             ]
            ],
            "type": "histogram2dcontour"
           }
          ],
          "mesh3d": [
           {
            "colorbar": {
             "outlinewidth": 0,
             "ticks": ""
            },
            "type": "mesh3d"
           }
          ],
          "parcoords": [
           {
            "line": {
             "colorbar": {
              "outlinewidth": 0,
              "ticks": ""
             }
            },
            "type": "parcoords"
           }
          ],
          "pie": [
           {
            "automargin": true,
            "type": "pie"
           }
          ],
          "scatter": [
           {
            "fillpattern": {
             "fillmode": "overlay",
             "size": 10,
             "solidity": 0.2
            },
            "type": "scatter"
           }
          ],
          "scatter3d": [
           {
            "line": {
             "colorbar": {
              "outlinewidth": 0,
              "ticks": ""
             }
            },
            "marker": {
             "colorbar": {
              "outlinewidth": 0,
              "ticks": ""
             }
            },
            "type": "scatter3d"
           }
          ],
          "scattercarpet": [
           {
            "marker": {
             "colorbar": {
              "outlinewidth": 0,
              "ticks": ""
             }
            },
            "type": "scattercarpet"
           }
          ],
          "scattergeo": [
           {
            "marker": {
             "colorbar": {
              "outlinewidth": 0,
              "ticks": ""
             }
            },
            "type": "scattergeo"
           }
          ],
          "scattergl": [
           {
            "marker": {
             "colorbar": {
              "outlinewidth": 0,
              "ticks": ""
             }
            },
            "type": "scattergl"
           }
          ],
          "scattermapbox": [
           {
            "marker": {
             "colorbar": {
              "outlinewidth": 0,
              "ticks": ""
             }
            },
            "type": "scattermapbox"
           }
          ],
          "scatterpolar": [
           {
            "marker": {
             "colorbar": {
              "outlinewidth": 0,
              "ticks": ""
             }
            },
            "type": "scatterpolar"
           }
          ],
          "scatterpolargl": [
           {
            "marker": {
             "colorbar": {
              "outlinewidth": 0,
              "ticks": ""
             }
            },
            "type": "scatterpolargl"
           }
          ],
          "scatterternary": [
           {
            "marker": {
             "colorbar": {
              "outlinewidth": 0,
              "ticks": ""
             }
            },
            "type": "scatterternary"
           }
          ],
          "surface": [
           {
            "colorbar": {
             "outlinewidth": 0,
             "ticks": ""
            },
            "colorscale": [
             [
              0,
              "#0d0887"
             ],
             [
              0.1111111111111111,
              "#46039f"
             ],
             [
              0.2222222222222222,
              "#7201a8"
             ],
             [
              0.3333333333333333,
              "#9c179e"
             ],
             [
              0.4444444444444444,
              "#bd3786"
             ],
             [
              0.5555555555555556,
              "#d8576b"
             ],
             [
              0.6666666666666666,
              "#ed7953"
             ],
             [
              0.7777777777777778,
              "#fb9f3a"
             ],
             [
              0.8888888888888888,
              "#fdca26"
             ],
             [
              1,
              "#f0f921"
             ]
            ],
            "type": "surface"
           }
          ],
          "table": [
           {
            "cells": {
             "fill": {
              "color": "#EBF0F8"
             },
             "line": {
              "color": "white"
             }
            },
            "header": {
             "fill": {
              "color": "#C8D4E3"
             },
             "line": {
              "color": "white"
             }
            },
            "type": "table"
           }
          ]
         },
         "layout": {
          "annotationdefaults": {
           "arrowcolor": "#2a3f5f",
           "arrowhead": 0,
           "arrowwidth": 1
          },
          "autotypenumbers": "strict",
          "coloraxis": {
           "colorbar": {
            "outlinewidth": 0,
            "ticks": ""
           }
          },
          "colorscale": {
           "diverging": [
            [
             0,
             "#8e0152"
            ],
            [
             0.1,
             "#c51b7d"
            ],
            [
             0.2,
             "#de77ae"
            ],
            [
             0.3,
             "#f1b6da"
            ],
            [
             0.4,
             "#fde0ef"
            ],
            [
             0.5,
             "#f7f7f7"
            ],
            [
             0.6,
             "#e6f5d0"
            ],
            [
             0.7,
             "#b8e186"
            ],
            [
             0.8,
             "#7fbc41"
            ],
            [
             0.9,
             "#4d9221"
            ],
            [
             1,
             "#276419"
            ]
           ],
           "sequential": [
            [
             0,
             "#0d0887"
            ],
            [
             0.1111111111111111,
             "#46039f"
            ],
            [
             0.2222222222222222,
             "#7201a8"
            ],
            [
             0.3333333333333333,
             "#9c179e"
            ],
            [
             0.4444444444444444,
             "#bd3786"
            ],
            [
             0.5555555555555556,
             "#d8576b"
            ],
            [
             0.6666666666666666,
             "#ed7953"
            ],
            [
             0.7777777777777778,
             "#fb9f3a"
            ],
            [
             0.8888888888888888,
             "#fdca26"
            ],
            [
             1,
             "#f0f921"
            ]
           ],
           "sequentialminus": [
            [
             0,
             "#0d0887"
            ],
            [
             0.1111111111111111,
             "#46039f"
            ],
            [
             0.2222222222222222,
             "#7201a8"
            ],
            [
             0.3333333333333333,
             "#9c179e"
            ],
            [
             0.4444444444444444,
             "#bd3786"
            ],
            [
             0.5555555555555556,
             "#d8576b"
            ],
            [
             0.6666666666666666,
             "#ed7953"
            ],
            [
             0.7777777777777778,
             "#fb9f3a"
            ],
            [
             0.8888888888888888,
             "#fdca26"
            ],
            [
             1,
             "#f0f921"
            ]
           ]
          },
          "colorway": [
           "#636efa",
           "#EF553B",
           "#00cc96",
           "#ab63fa",
           "#FFA15A",
           "#19d3f3",
           "#FF6692",
           "#B6E880",
           "#FF97FF",
           "#FECB52"
          ],
          "font": {
           "color": "#2a3f5f"
          },
          "geo": {
           "bgcolor": "white",
           "lakecolor": "white",
           "landcolor": "#E5ECF6",
           "showlakes": true,
           "showland": true,
           "subunitcolor": "white"
          },
          "hoverlabel": {
           "align": "left"
          },
          "hovermode": "closest",
          "mapbox": {
           "style": "light"
          },
          "paper_bgcolor": "white",
          "plot_bgcolor": "#E5ECF6",
          "polar": {
           "angularaxis": {
            "gridcolor": "white",
            "linecolor": "white",
            "ticks": ""
           },
           "bgcolor": "#E5ECF6",
           "radialaxis": {
            "gridcolor": "white",
            "linecolor": "white",
            "ticks": ""
           }
          },
          "scene": {
           "xaxis": {
            "backgroundcolor": "#E5ECF6",
            "gridcolor": "white",
            "gridwidth": 2,
            "linecolor": "white",
            "showbackground": true,
            "ticks": "",
            "zerolinecolor": "white"
           },
           "yaxis": {
            "backgroundcolor": "#E5ECF6",
            "gridcolor": "white",
            "gridwidth": 2,
            "linecolor": "white",
            "showbackground": true,
            "ticks": "",
            "zerolinecolor": "white"
           },
           "zaxis": {
            "backgroundcolor": "#E5ECF6",
            "gridcolor": "white",
            "gridwidth": 2,
            "linecolor": "white",
            "showbackground": true,
            "ticks": "",
            "zerolinecolor": "white"
           }
          },
          "shapedefaults": {
           "line": {
            "color": "#2a3f5f"
           }
          },
          "ternary": {
           "aaxis": {
            "gridcolor": "white",
            "linecolor": "white",
            "ticks": ""
           },
           "baxis": {
            "gridcolor": "white",
            "linecolor": "white",
            "ticks": ""
           },
           "bgcolor": "#E5ECF6",
           "caxis": {
            "gridcolor": "white",
            "linecolor": "white",
            "ticks": ""
           }
          },
          "title": {
           "x": 0.05
          },
          "xaxis": {
           "automargin": true,
           "gridcolor": "white",
           "linecolor": "white",
           "ticks": "",
           "title": {
            "standoff": 15
           },
           "zerolinecolor": "white",
           "zerolinewidth": 2
          },
          "yaxis": {
           "automargin": true,
           "gridcolor": "white",
           "linecolor": "white",
           "ticks": "",
           "title": {
            "standoff": 15
           },
           "zerolinecolor": "white",
           "zerolinewidth": 2
          }
         }
        },
        "title": {
         "text": "Top Violent Crimes in 2022 vs 2023 (Consistent Categories)"
        },
        "xaxis": {
         "anchor": "y",
         "domain": [
          0,
          1
         ],
         "title": {
          "text": "Year"
         }
        },
        "yaxis": {
         "anchor": "x",
         "domain": [
          0,
          1
         ],
         "title": {
          "text": "Count"
         }
        }
       }
      }
     },
     "metadata": {},
     "output_type": "display_data"
    },
    {
     "data": {
      "application/vnd.plotly.v1+json": {
       "config": {
        "plotlyServerURL": "https://plot.ly"
       },
       "data": [
        {
         "alignmentgroup": "True",
         "hovertemplate": "Offense=AUTOTH<br>Year=%{x}<br>Count=%{y}<extra></extra>",
         "legendgroup": "AUTOTH",
         "marker": {
          "color": "#636efa",
          "pattern": {
           "shape": ""
          }
         },
         "name": "AUTOTH",
         "offsetgroup": "AUTOTH",
         "orientation": "v",
         "showlegend": true,
         "textposition": "auto",
         "type": "bar",
         "x": [
          "2022",
          "2023"
         ],
         "xaxis": "x",
         "y": [
          6089,
          7694
         ],
         "yaxis": "y"
        },
        {
         "alignmentgroup": "True",
         "hovertemplate": "Offense=TFMV<br>Year=%{x}<br>Count=%{y}<extra></extra>",
         "legendgroup": "TFMV",
         "marker": {
          "color": "#EF553B",
          "pattern": {
           "shape": ""
          }
         },
         "name": "TFMV",
         "offsetgroup": "TFMV",
         "orientation": "v",
         "showlegend": true,
         "textposition": "auto",
         "type": "bar",
         "x": [
          "2022",
          "2023"
         ],
         "xaxis": "x",
         "y": [
          3613,
          3682
         ],
         "yaxis": "y"
        },
        {
         "alignmentgroup": "True",
         "hovertemplate": "Offense=THEFT<br>Year=%{x}<br>Count=%{y}<extra></extra>",
         "legendgroup": "THEFT",
         "marker": {
          "color": "#00cc96",
          "pattern": {
           "shape": ""
          }
         },
         "name": "THEFT",
         "offsetgroup": "THEFT",
         "orientation": "v",
         "showlegend": true,
         "textposition": "auto",
         "type": "bar",
         "x": [
          "2022",
          "2023"
         ],
         "xaxis": "x",
         "y": [
          3827,
          3552
         ],
         "yaxis": "y"
        },
        {
         "alignmentgroup": "True",
         "hovertemplate": "Offense=TMVP<br>Year=%{x}<br>Count=%{y}<extra></extra>",
         "legendgroup": "TMVP",
         "marker": {
          "color": "#ab63fa",
          "pattern": {
           "shape": ""
          }
         },
         "name": "TMVP",
         "offsetgroup": "TMVP",
         "orientation": "v",
         "showlegend": true,
         "textposition": "auto",
         "type": "bar",
         "x": [
          "2022",
          "2023"
         ],
         "xaxis": "x",
         "y": [
          3238,
          1806
         ],
         "yaxis": "y"
        },
        {
         "alignmentgroup": "True",
         "hovertemplate": "Offense=Other<br>Year=%{x}<br>Count=%{y}<extra></extra>",
         "legendgroup": "Other",
         "marker": {
          "color": "#FFA15A",
          "pattern": {
           "shape": ""
          }
         },
         "name": "Other",
         "offsetgroup": "Other",
         "orientation": "v",
         "showlegend": true,
         "textposition": "auto",
         "type": "bar",
         "x": [
          "2022",
          "2023"
         ],
         "xaxis": "x",
         "y": [
          5147,
          5034
         ],
         "yaxis": "y"
        }
       ],
       "layout": {
        "barmode": "group",
        "legend": {
         "title": {
          "text": "Offense"
         },
         "tracegroupgap": 0
        },
        "template": {
         "data": {
          "bar": [
           {
            "error_x": {
             "color": "#2a3f5f"
            },
            "error_y": {
             "color": "#2a3f5f"
            },
            "marker": {
             "line": {
              "color": "#E5ECF6",
              "width": 0.5
             },
             "pattern": {
              "fillmode": "overlay",
              "size": 10,
              "solidity": 0.2
             }
            },
            "type": "bar"
           }
          ],
          "barpolar": [
           {
            "marker": {
             "line": {
              "color": "#E5ECF6",
              "width": 0.5
             },
             "pattern": {
              "fillmode": "overlay",
              "size": 10,
              "solidity": 0.2
             }
            },
            "type": "barpolar"
           }
          ],
          "carpet": [
           {
            "aaxis": {
             "endlinecolor": "#2a3f5f",
             "gridcolor": "white",
             "linecolor": "white",
             "minorgridcolor": "white",
             "startlinecolor": "#2a3f5f"
            },
            "baxis": {
             "endlinecolor": "#2a3f5f",
             "gridcolor": "white",
             "linecolor": "white",
             "minorgridcolor": "white",
             "startlinecolor": "#2a3f5f"
            },
            "type": "carpet"
           }
          ],
          "choropleth": [
           {
            "colorbar": {
             "outlinewidth": 0,
             "ticks": ""
            },
            "type": "choropleth"
           }
          ],
          "contour": [
           {
            "colorbar": {
             "outlinewidth": 0,
             "ticks": ""
            },
            "colorscale": [
             [
              0,
              "#0d0887"
             ],
             [
              0.1111111111111111,
              "#46039f"
             ],
             [
              0.2222222222222222,
              "#7201a8"
             ],
             [
              0.3333333333333333,
              "#9c179e"
             ],
             [
              0.4444444444444444,
              "#bd3786"
             ],
             [
              0.5555555555555556,
              "#d8576b"
             ],
             [
              0.6666666666666666,
              "#ed7953"
             ],
             [
              0.7777777777777778,
              "#fb9f3a"
             ],
             [
              0.8888888888888888,
              "#fdca26"
             ],
             [
              1,
              "#f0f921"
             ]
            ],
            "type": "contour"
           }
          ],
          "contourcarpet": [
           {
            "colorbar": {
             "outlinewidth": 0,
             "ticks": ""
            },
            "type": "contourcarpet"
           }
          ],
          "heatmap": [
           {
            "colorbar": {
             "outlinewidth": 0,
             "ticks": ""
            },
            "colorscale": [
             [
              0,
              "#0d0887"
             ],
             [
              0.1111111111111111,
              "#46039f"
             ],
             [
              0.2222222222222222,
              "#7201a8"
             ],
             [
              0.3333333333333333,
              "#9c179e"
             ],
             [
              0.4444444444444444,
              "#bd3786"
             ],
             [
              0.5555555555555556,
              "#d8576b"
             ],
             [
              0.6666666666666666,
              "#ed7953"
             ],
             [
              0.7777777777777778,
              "#fb9f3a"
             ],
             [
              0.8888888888888888,
              "#fdca26"
             ],
             [
              1,
              "#f0f921"
             ]
            ],
            "type": "heatmap"
           }
          ],
          "heatmapgl": [
           {
            "colorbar": {
             "outlinewidth": 0,
             "ticks": ""
            },
            "colorscale": [
             [
              0,
              "#0d0887"
             ],
             [
              0.1111111111111111,
              "#46039f"
             ],
             [
              0.2222222222222222,
              "#7201a8"
             ],
             [
              0.3333333333333333,
              "#9c179e"
             ],
             [
              0.4444444444444444,
              "#bd3786"
             ],
             [
              0.5555555555555556,
              "#d8576b"
             ],
             [
              0.6666666666666666,
              "#ed7953"
             ],
             [
              0.7777777777777778,
              "#fb9f3a"
             ],
             [
              0.8888888888888888,
              "#fdca26"
             ],
             [
              1,
              "#f0f921"
             ]
            ],
            "type": "heatmapgl"
           }
          ],
          "histogram": [
           {
            "marker": {
             "pattern": {
              "fillmode": "overlay",
              "size": 10,
              "solidity": 0.2
             }
            },
            "type": "histogram"
           }
          ],
          "histogram2d": [
           {
            "colorbar": {
             "outlinewidth": 0,
             "ticks": ""
            },
            "colorscale": [
             [
              0,
              "#0d0887"
             ],
             [
              0.1111111111111111,
              "#46039f"
             ],
             [
              0.2222222222222222,
              "#7201a8"
             ],
             [
              0.3333333333333333,
              "#9c179e"
             ],
             [
              0.4444444444444444,
              "#bd3786"
             ],
             [
              0.5555555555555556,
              "#d8576b"
             ],
             [
              0.6666666666666666,
              "#ed7953"
             ],
             [
              0.7777777777777778,
              "#fb9f3a"
             ],
             [
              0.8888888888888888,
              "#fdca26"
             ],
             [
              1,
              "#f0f921"
             ]
            ],
            "type": "histogram2d"
           }
          ],
          "histogram2dcontour": [
           {
            "colorbar": {
             "outlinewidth": 0,
             "ticks": ""
            },
            "colorscale": [
             [
              0,
              "#0d0887"
             ],
             [
              0.1111111111111111,
              "#46039f"
             ],
             [
              0.2222222222222222,
              "#7201a8"
             ],
             [
              0.3333333333333333,
              "#9c179e"
             ],
             [
              0.4444444444444444,
              "#bd3786"
             ],
             [
              0.5555555555555556,
              "#d8576b"
             ],
             [
              0.6666666666666666,
              "#ed7953"
             ],
             [
              0.7777777777777778,
              "#fb9f3a"
             ],
             [
              0.8888888888888888,
              "#fdca26"
             ],
             [
              1,
              "#f0f921"
             ]
            ],
            "type": "histogram2dcontour"
           }
          ],
          "mesh3d": [
           {
            "colorbar": {
             "outlinewidth": 0,
             "ticks": ""
            },
            "type": "mesh3d"
           }
          ],
          "parcoords": [
           {
            "line": {
             "colorbar": {
              "outlinewidth": 0,
              "ticks": ""
             }
            },
            "type": "parcoords"
           }
          ],
          "pie": [
           {
            "automargin": true,
            "type": "pie"
           }
          ],
          "scatter": [
           {
            "fillpattern": {
             "fillmode": "overlay",
             "size": 10,
             "solidity": 0.2
            },
            "type": "scatter"
           }
          ],
          "scatter3d": [
           {
            "line": {
             "colorbar": {
              "outlinewidth": 0,
              "ticks": ""
             }
            },
            "marker": {
             "colorbar": {
              "outlinewidth": 0,
              "ticks": ""
             }
            },
            "type": "scatter3d"
           }
          ],
          "scattercarpet": [
           {
            "marker": {
             "colorbar": {
              "outlinewidth": 0,
              "ticks": ""
             }
            },
            "type": "scattercarpet"
           }
          ],
          "scattergeo": [
           {
            "marker": {
             "colorbar": {
              "outlinewidth": 0,
              "ticks": ""
             }
            },
            "type": "scattergeo"
           }
          ],
          "scattergl": [
           {
            "marker": {
             "colorbar": {
              "outlinewidth": 0,
              "ticks": ""
             }
            },
            "type": "scattergl"
           }
          ],
          "scattermapbox": [
           {
            "marker": {
             "colorbar": {
              "outlinewidth": 0,
              "ticks": ""
             }
            },
            "type": "scattermapbox"
           }
          ],
          "scatterpolar": [
           {
            "marker": {
             "colorbar": {
              "outlinewidth": 0,
              "ticks": ""
             }
            },
            "type": "scatterpolar"
           }
          ],
          "scatterpolargl": [
           {
            "marker": {
             "colorbar": {
              "outlinewidth": 0,
              "ticks": ""
             }
            },
            "type": "scatterpolargl"
           }
          ],
          "scatterternary": [
           {
            "marker": {
             "colorbar": {
              "outlinewidth": 0,
              "ticks": ""
             }
            },
            "type": "scatterternary"
           }
          ],
          "surface": [
           {
            "colorbar": {
             "outlinewidth": 0,
             "ticks": ""
            },
            "colorscale": [
             [
              0,
              "#0d0887"
             ],
             [
              0.1111111111111111,
              "#46039f"
             ],
             [
              0.2222222222222222,
              "#7201a8"
             ],
             [
              0.3333333333333333,
              "#9c179e"
             ],
             [
              0.4444444444444444,
              "#bd3786"
             ],
             [
              0.5555555555555556,
              "#d8576b"
             ],
             [
              0.6666666666666666,
              "#ed7953"
             ],
             [
              0.7777777777777778,
              "#fb9f3a"
             ],
             [
              0.8888888888888888,
              "#fdca26"
             ],
             [
              1,
              "#f0f921"
             ]
            ],
            "type": "surface"
           }
          ],
          "table": [
           {
            "cells": {
             "fill": {
              "color": "#EBF0F8"
             },
             "line": {
              "color": "white"
             }
            },
            "header": {
             "fill": {
              "color": "#C8D4E3"
             },
             "line": {
              "color": "white"
             }
            },
            "type": "table"
           }
          ]
         },
         "layout": {
          "annotationdefaults": {
           "arrowcolor": "#2a3f5f",
           "arrowhead": 0,
           "arrowwidth": 1
          },
          "autotypenumbers": "strict",
          "coloraxis": {
           "colorbar": {
            "outlinewidth": 0,
            "ticks": ""
           }
          },
          "colorscale": {
           "diverging": [
            [
             0,
             "#8e0152"
            ],
            [
             0.1,
             "#c51b7d"
            ],
            [
             0.2,
             "#de77ae"
            ],
            [
             0.3,
             "#f1b6da"
            ],
            [
             0.4,
             "#fde0ef"
            ],
            [
             0.5,
             "#f7f7f7"
            ],
            [
             0.6,
             "#e6f5d0"
            ],
            [
             0.7,
             "#b8e186"
            ],
            [
             0.8,
             "#7fbc41"
            ],
            [
             0.9,
             "#4d9221"
            ],
            [
             1,
             "#276419"
            ]
           ],
           "sequential": [
            [
             0,
             "#0d0887"
            ],
            [
             0.1111111111111111,
             "#46039f"
            ],
            [
             0.2222222222222222,
             "#7201a8"
            ],
            [
             0.3333333333333333,
             "#9c179e"
            ],
            [
             0.4444444444444444,
             "#bd3786"
            ],
            [
             0.5555555555555556,
             "#d8576b"
            ],
            [
             0.6666666666666666,
             "#ed7953"
            ],
            [
             0.7777777777777778,
             "#fb9f3a"
            ],
            [
             0.8888888888888888,
             "#fdca26"
            ],
            [
             1,
             "#f0f921"
            ]
           ],
           "sequentialminus": [
            [
             0,
             "#0d0887"
            ],
            [
             0.1111111111111111,
             "#46039f"
            ],
            [
             0.2222222222222222,
             "#7201a8"
            ],
            [
             0.3333333333333333,
             "#9c179e"
            ],
            [
             0.4444444444444444,
             "#bd3786"
            ],
            [
             0.5555555555555556,
             "#d8576b"
            ],
            [
             0.6666666666666666,
             "#ed7953"
            ],
            [
             0.7777777777777778,
             "#fb9f3a"
            ],
            [
             0.8888888888888888,
             "#fdca26"
            ],
            [
             1,
             "#f0f921"
            ]
           ]
          },
          "colorway": [
           "#636efa",
           "#EF553B",
           "#00cc96",
           "#ab63fa",
           "#FFA15A",
           "#19d3f3",
           "#FF6692",
           "#B6E880",
           "#FF97FF",
           "#FECB52"
          ],
          "font": {
           "color": "#2a3f5f"
          },
          "geo": {
           "bgcolor": "white",
           "lakecolor": "white",
           "landcolor": "#E5ECF6",
           "showlakes": true,
           "showland": true,
           "subunitcolor": "white"
          },
          "hoverlabel": {
           "align": "left"
          },
          "hovermode": "closest",
          "mapbox": {
           "style": "light"
          },
          "paper_bgcolor": "white",
          "plot_bgcolor": "#E5ECF6",
          "polar": {
           "angularaxis": {
            "gridcolor": "white",
            "linecolor": "white",
            "ticks": ""
           },
           "bgcolor": "#E5ECF6",
           "radialaxis": {
            "gridcolor": "white",
            "linecolor": "white",
            "ticks": ""
           }
          },
          "scene": {
           "xaxis": {
            "backgroundcolor": "#E5ECF6",
            "gridcolor": "white",
            "gridwidth": 2,
            "linecolor": "white",
            "showbackground": true,
            "ticks": "",
            "zerolinecolor": "white"
           },
           "yaxis": {
            "backgroundcolor": "#E5ECF6",
            "gridcolor": "white",
            "gridwidth": 2,
            "linecolor": "white",
            "showbackground": true,
            "ticks": "",
            "zerolinecolor": "white"
           },
           "zaxis": {
            "backgroundcolor": "#E5ECF6",
            "gridcolor": "white",
            "gridwidth": 2,
            "linecolor": "white",
            "showbackground": true,
            "ticks": "",
            "zerolinecolor": "white"
           }
          },
          "shapedefaults": {
           "line": {
            "color": "#2a3f5f"
           }
          },
          "ternary": {
           "aaxis": {
            "gridcolor": "white",
            "linecolor": "white",
            "ticks": ""
           },
           "baxis": {
            "gridcolor": "white",
            "linecolor": "white",
            "ticks": ""
           },
           "bgcolor": "#E5ECF6",
           "caxis": {
            "gridcolor": "white",
            "linecolor": "white",
            "ticks": ""
           }
          },
          "title": {
           "x": 0.05
          },
          "xaxis": {
           "automargin": true,
           "gridcolor": "white",
           "linecolor": "white",
           "ticks": "",
           "title": {
            "standoff": 15
           },
           "zerolinecolor": "white",
           "zerolinewidth": 2
          },
          "yaxis": {
           "automargin": true,
           "gridcolor": "white",
           "linecolor": "white",
           "ticks": "",
           "title": {
            "standoff": 15
           },
           "zerolinecolor": "white",
           "zerolinewidth": 2
          }
         }
        },
        "title": {
         "text": "Top Non-Violent Crimes in 2022 vs 2023 (Consistent Categories)"
        },
        "xaxis": {
         "anchor": "y",
         "domain": [
          0,
          1
         ],
         "title": {
          "text": "Year"
         }
        },
        "yaxis": {
         "anchor": "x",
         "domain": [
          0,
          1
         ],
         "title": {
          "text": "Count"
         }
        }
       }
      }
     },
     "metadata": {},
     "output_type": "display_data"
    }
   ],
   "source": [
    "import pandas as pd\n",
    "import plotly.express as px\n",
    "\n",
    "# Define the top 4 subcategories based on 2022 data for violent crimes\n",
    "top_4_violent_offenses = ['ASLT2', 'ROBPAG', 'CARJCK', 'ROBPER']\n",
    "\n",
    "# Create 'Other' category for both years for violent crimes\n",
    "violent_counts_2022 = df_2022[df_2022['Crime_Category'] == 'Violent']['offense'].value_counts()\n",
    "violent_counts_2023 = df_2023[df_2023['Crime_Category'] == 'Violent']['offense'].value_counts()\n",
    "\n",
    "# Filter for the same top 4 subcategories for both years and sum the rest as \"Other\"\n",
    "violent_top_2022 = violent_counts_2022.loc[top_4_violent_offenses]\n",
    "violent_top_2023 = violent_counts_2023.loc[top_4_violent_offenses]\n",
    "\n",
    "violent_other_2022 = violent_counts_2022.sum() - violent_top_2022.sum()\n",
    "violent_other_2023 = violent_counts_2023.sum() - violent_top_2023.sum()\n",
    "\n",
    "# Prepare data for Violent Crimes plot\n",
    "violent_data = {\n",
    "    'Year': ['2022', '2022', '2022', '2022', '2022', '2023', '2023', '2023', '2023', '2023'],\n",
    "    'Offense': top_4_violent_offenses + ['Other'] + top_4_violent_offenses + ['Other'],\n",
    "    'Count': list(violent_top_2022.values) + [violent_other_2022] + list(violent_top_2023.values) + [violent_other_2023]\n",
    "}\n",
    "\n",
    "df_violent_data = pd.DataFrame(violent_data)\n",
    "\n",
    "# Plot for Violent Crimes\n",
    "fig_violent = px.bar(df_violent_data, x='Year', y='Count', color='Offense', barmode='group',\n",
    "             title='Top Violent Crimes in 2022 vs 2023 (Consistent Categories)')\n",
    "fig_violent.show()\n",
    "\n",
    "# Repeat the same process for Non-Violent Crimes\n",
    "# Define the top 4 subcategories based on 2022 data for non-violent crimes\n",
    "top_4_non_violent_offenses = ['AUTOTH', 'TFMV', 'THEFT', 'TMVP']\n",
    "\n",
    "# Create 'Other' category for both years for non-violent crimes\n",
    "non_violent_counts_2022 = df_2022[df_2022['Crime_Category'] == 'Non-Violent']['offense'].value_counts()\n",
    "non_violent_counts_2023 = df_2023[df_2023['Crime_Category'] == 'Non-Violent']['offense'].value_counts()\n",
    "\n",
    "# Filter for the same top 4 subcategories for both years and sum the rest as \"Other\"\n",
    "non_violent_top_2022 = non_violent_counts_2022.loc[top_4_non_violent_offenses]\n",
    "non_violent_top_2023 = non_violent_counts_2023.loc[top_4_non_violent_offenses]\n",
    "\n",
    "non_violent_other_2022 = non_violent_counts_2022.sum() - non_violent_top_2022.sum()\n",
    "non_violent_other_2023 = non_violent_counts_2023.sum() - non_violent_top_2023.sum()\n",
    "\n",
    "# Prepare data for Non-Violent Crimes plot\n",
    "non_violent_data = {\n",
    "    'Year': ['2022', '2022', '2022', '2022', '2022', '2023', '2023', '2023', '2023', '2023'],\n",
    "    'Offense': top_4_non_violent_offenses + ['Other'] + top_4_non_violent_offenses + ['Other'],\n",
    "    'Count': list(non_violent_top_2022.values) + [non_violent_other_2022] + list(non_violent_top_2023.values) + [non_violent_other_2023]\n",
    "}\n",
    "\n",
    "df_non_violent_data = pd.DataFrame(non_violent_data)\n",
    "\n",
    "# Plot for Non-Violent Crimes\n",
    "fig_non_violent = px.bar(df_non_violent_data, x='Year', y='Count', color='Offense', barmode='group',\n",
    "             title='Top Non-Violent Crimes in 2022 vs 2023 (Consistent Categories)')\n",
    "fig_non_violent.show()\n"
   ]
  },
  {
   "cell_type": "code",
   "execution_count": 20,
   "metadata": {},
   "outputs": [
    {
     "name": "stdout",
     "output_type": "stream",
     "text": [
      "Homicides in 2022: 77\n",
      "Homicides in 2023: 69\n",
      "Percentage change in homicides from 2022 to 2023: -10.39%\n"
     ]
    }
   ],
   "source": [
    "# Based\n",
    "# Homicides comparison for 2022 vs 2023 (offense code: MURDR)\n",
    "homicides_2022 = df_2022[df_2022['offense'] == 'MURDR']['offense'].count()\n",
    "homicides_2023 = df_2023[df_2023['offense'] == 'MURDR']['offense'].count()\n",
    "\n",
    "print(f\"Homicides in 2022: {homicides_2022}\")\n",
    "print(f\"Homicides in 2023: {homicides_2023}\")\n",
    "\n",
    "# Calculate percentage change\n",
    "homicide_change = ((homicides_2023 - homicides_2022) / homicides_2022) * 100\n",
    "print(f\"Percentage change in homicides from 2022 to 2023: {homicide_change:.2f}%\")\n"
   ]
  },
  {
   "cell_type": "markdown",
   "metadata": {},
   "source": [
    "# Filtering Data Based on the `reportedDate` Field for Dates Before April 23\n",
    "\n",
    "This section explains how to filter crime incident data based on the `reportedDate` field. We will focus on incidents that were reported **before April 23** for both 2022 and 2023.\n",
    "\n",
    "## Steps for Filtering\n",
    "\n",
    "1. **Convert the `reportedDate` to a `datetime` object**:\n",
    "   The `reportedDate` column may be stored as a string. We need to ensure it is in a `datetime` format so that we can properly filter based on dates.\n",
    "\n",
    "2. **Filter rows before April 23 for both years**:\n",
    "   After converting the column to a `datetime` object, we can filter the dataset to only include rows where the `reportedDate` is before April 23.\n",
    "\n",
    "### Python Code\n",
    "\n",
    "```python\n",
    "import pandas as pd\n",
    "\n",
    "# Ensure the 'reportedDate' field is in datetime format\n",
    "df_2022['reportedDate'] = pd.to_datetime(df_2022['reportedDate'])\n",
    "df_2023['reportedDate'] = pd.to_datetime(df_2023['reportedDate'])\n",
    "\n",
    "# Define the cutoff date for filtering\n",
    "cutoff_date = pd.to_datetime('2023-04-23')\n",
    "\n",
    "# Filter data for both years to include only incidents before April 23\n",
    "df_2022_filtered = df_2022[df_2022['reportedDate'] < cutoff_date.replace(year=2022)]\n",
    "df_2023_filtered = df_2023[df_2023['reportedDate'] < cutoff_date.replace(year=2023)]\n",
    "\n",
    "# Display the filtered data counts for both years\n",
    "print(f\"Filtered 2022 data before April 23: {len(df_2022_filtered)} rows\")\n",
    "print(f\"Filtered 2023 data before April 23: {len(df_2023_filtered)} rows\")\n"
   ]
  },
  {
   "cell_type": "code",
   "execution_count": 22,
   "metadata": {},
   "outputs": [
    {
     "name": "stdout",
     "output_type": "stream",
     "text": [
      "Filtered 2022 data before April 23: 6884 rows\n",
      "Filtered 2023 data before April 23: 7604 rows\n"
     ]
    }
   ],
   "source": [
    "import pandas as pd\n",
    "\n",
    "# Ensure that 'reportedDate' is in datetime format and convert to timezone-naive (remove timezone info)\n",
    "df_2022['reportedDate'] = pd.to_datetime(df_2022['reportedDate']).dt.tz_localize(None)\n",
    "df_2023['reportedDate'] = pd.to_datetime(df_2023['reportedDate']).dt.tz_localize(None)\n",
    "\n",
    "# Define the cutoff date (timezone-naive, no need for timezone conversion)\n",
    "cutoff_date = pd.to_datetime('2022-04-23')\n",
    "\n",
    "# Filter for rows where reportedDate is before April 23 in both datasets\n",
    "df_2022_filtered = df_2022[df_2022['reportedDate'] < cutoff_date.replace(year=2022)]\n",
    "df_2023_filtered = df_2023[df_2023['reportedDate'] < cutoff_date.replace(year=2023)]\n",
    "\n",
    "# Check filtered data counts\n",
    "print(f\"Filtered 2022 data before April 23: {len(df_2022_filtered)} rows\")\n",
    "print(f\"Filtered 2023 data before April 23: {len(df_2023_filtered)} rows\")\n"
   ]
  },
  {
   "cell_type": "code",
   "execution_count": 49,
   "metadata": {},
   "outputs": [],
   "source": [
    "# Define violent and non-violent crimes based on the offense codes\n",
    "violent_crimes = ['ASLT1', 'ASLT2', 'ASLT3', 'ASLT4', 'DASLT1', 'DASLT2', 'DASLT3', 'DASTR', 'CARJCK', \n",
    "                  'ROBPER', 'ROBBIZ', 'ROBPAG', 'MURDR', 'JHOMIC', 'CSCR', 'ABSVAR']\n",
    "non_violent_crimes = ['THEFT', 'TFMV', 'TMVP', 'BIKETF', 'SHOPLF', 'THFTSW', 'ONLTHT', 'TBLDG', 'AUTOTH', \n",
    "                      'TFPER', 'MVTHFT', 'WLKOFF', 'BURGD', 'BURGB', 'ARSON', 'COMPUT', 'SCRAP', 'COINOP', \n",
    "                      'POCKET', 'NOPAY', 'DISARM', 'PETIT']\n",
    "\n",
    "# Function to classify crimes into Violent or Non-Violent\n",
    "def classify_crime(offense):\n",
    "    if offense in violent_crimes:\n",
    "        return 'Violent'\n",
    "    elif offense in non_violent_crimes:\n",
    "        return 'Non-Violent'\n",
    "    else:\n",
    "        return 'Other'\n",
    "\n",
    "# Apply this classification to both filtered datasets\n",
    "# Apply the classification to both filtered datasets using .loc to avoid the warning\n",
    "df_2022_filtered.loc[:, 'Crime_Category'] = df_2022_filtered['offense'].apply(classify_crime)\n",
    "df_2023_filtered.loc[:, 'Crime_Category'] = df_2023_filtered['offense'].apply(classify_crime)\n",
    "\n"
   ]
  },
  {
   "cell_type": "code",
   "execution_count": 51,
   "metadata": {},
   "outputs": [
    {
     "name": "stdout",
     "output_type": "stream",
     "text": [
      "Violent Crime Table:\n",
      "   Offense                               Description   2022   2023 Change (%)\n",
      "0    Total                                             6884   7604  10.459035\n",
      "1    Total                                             1151   1040  -9.643788\n",
      "2    ASLT2              Assault in the second degree    287    298   3.832753\n",
      "3   ROBPAG                        Robbery with a gun    159    140 -11.949686\n",
      "4   CARJCK                                Carjacking    152     91 -40.131579\n",
      "5   ROBPER                          Personal robbery     94     92   -2.12766\n",
      "6   DASLT2     Domestic assault in the second degree    121    107 -11.570248\n",
      "7    DASTR  Domestic assault involving strangulation    113    125  10.619469\n",
      "8     CSCR              Criminal sexual conduct/rape     86     89   3.488372\n",
      "9    ASLT3               Assault in the third degree     52     36 -30.769231\n",
      "10  ROBBIZ                     Robbery of a business     46     19 -58.695652\n",
      "11   ASLT4              Assault in the fourth degree     19     28  47.368421\n",
      "12   MURDR                                    Murder     22     15 -31.818182\n",
      "13   Other                            Other offenses   5733   6564  14.495029\n",
      "14                                                                           \n",
      "15   Total                     Overall Violent Crime  14919  16248   8.908104\n",
      "\n",
      "Non-Violent Crime Table:\n",
      "   Offense                   Description   2022   2023  Change (%)\n",
      "0    Total                                 6884   7604   10.459035\n",
      "1    Total                                 5611   6442   14.810194\n",
      "2   AUTOTH                    Auto theft   1396   2959  111.962751\n",
      "3    THEFT                 General theft   1047    900  -14.040115\n",
      "4     TFMV      Theft from motor vehicle    837    946     13.0227\n",
      "5     TMVP  Theft of motor vehicle parts   1309    623  -52.406417\n",
      "6    BURGD        Burglary of a dwelling    334    353    5.688623\n",
      "7   BIKETF                 Bicycle theft    170     96  -43.529412\n",
      "8    BURGB        Burglary of a business    258    276    6.976744\n",
      "9   SHOPLF                   Shoplifting    116    143   23.275862\n",
      "10  THFTSW             Theft of services     99    119    20.20202\n",
      "11   TFPER             Theft from person     45     27       -40.0\n",
      "12   Other                Other offenses   1273   1162    -8.71956\n",
      "13                                                                \n",
      "14   Total     Overall Non-Violent Crime  19379  21650   11.718871\n"
     ]
    }
   ],
   "source": []
  },
  {
   "cell_type": "code",
   "execution_count": 27,
   "metadata": {},
   "outputs": [
    {
     "data": {
      "application/vnd.plotly.v1+json": {
       "config": {
        "plotlyServerURL": "https://plot.ly"
       },
       "data": [
        {
         "alignmentgroup": "True",
         "hovertemplate": "Offense=ASLT2<br>Year=%{x}<br>Count=%{y}<extra></extra>",
         "legendgroup": "ASLT2",
         "marker": {
          "color": "#636efa",
          "pattern": {
           "shape": ""
          }
         },
         "name": "ASLT2",
         "offsetgroup": "ASLT2",
         "orientation": "v",
         "showlegend": true,
         "textposition": "auto",
         "type": "bar",
         "x": [
          "2022",
          "2023"
         ],
         "xaxis": "x",
         "y": [
          287,
          298
         ],
         "yaxis": "y"
        },
        {
         "alignmentgroup": "True",
         "hovertemplate": "Offense=ROBPAG<br>Year=%{x}<br>Count=%{y}<extra></extra>",
         "legendgroup": "ROBPAG",
         "marker": {
          "color": "#EF553B",
          "pattern": {
           "shape": ""
          }
         },
         "name": "ROBPAG",
         "offsetgroup": "ROBPAG",
         "orientation": "v",
         "showlegend": true,
         "textposition": "auto",
         "type": "bar",
         "x": [
          "2022",
          "2023"
         ],
         "xaxis": "x",
         "y": [
          159,
          140
         ],
         "yaxis": "y"
        },
        {
         "alignmentgroup": "True",
         "hovertemplate": "Offense=CARJCK<br>Year=%{x}<br>Count=%{y}<extra></extra>",
         "legendgroup": "CARJCK",
         "marker": {
          "color": "#00cc96",
          "pattern": {
           "shape": ""
          }
         },
         "name": "CARJCK",
         "offsetgroup": "CARJCK",
         "orientation": "v",
         "showlegend": true,
         "textposition": "auto",
         "type": "bar",
         "x": [
          "2022",
          "2023"
         ],
         "xaxis": "x",
         "y": [
          152,
          91
         ],
         "yaxis": "y"
        },
        {
         "alignmentgroup": "True",
         "hovertemplate": "Offense=ROBPER<br>Year=%{x}<br>Count=%{y}<extra></extra>",
         "legendgroup": "ROBPER",
         "marker": {
          "color": "#ab63fa",
          "pattern": {
           "shape": ""
          }
         },
         "name": "ROBPER",
         "offsetgroup": "ROBPER",
         "orientation": "v",
         "showlegend": true,
         "textposition": "auto",
         "type": "bar",
         "x": [
          "2022",
          "2023"
         ],
         "xaxis": "x",
         "y": [
          94,
          92
         ],
         "yaxis": "y"
        },
        {
         "alignmentgroup": "True",
         "hovertemplate": "Offense=Other<br>Year=%{x}<br>Count=%{y}<extra></extra>",
         "legendgroup": "Other",
         "marker": {
          "color": "#FFA15A",
          "pattern": {
           "shape": ""
          }
         },
         "name": "Other",
         "offsetgroup": "Other",
         "orientation": "v",
         "showlegend": true,
         "textposition": "auto",
         "type": "bar",
         "x": [
          "2022",
          "2023"
         ],
         "xaxis": "x",
         "y": [
          490,
          450
         ],
         "yaxis": "y"
        }
       ],
       "layout": {
        "barmode": "group",
        "legend": {
         "title": {
          "text": "Offense"
         },
         "tracegroupgap": 0
        },
        "template": {
         "data": {
          "bar": [
           {
            "error_x": {
             "color": "#2a3f5f"
            },
            "error_y": {
             "color": "#2a3f5f"
            },
            "marker": {
             "line": {
              "color": "#E5ECF6",
              "width": 0.5
             },
             "pattern": {
              "fillmode": "overlay",
              "size": 10,
              "solidity": 0.2
             }
            },
            "type": "bar"
           }
          ],
          "barpolar": [
           {
            "marker": {
             "line": {
              "color": "#E5ECF6",
              "width": 0.5
             },
             "pattern": {
              "fillmode": "overlay",
              "size": 10,
              "solidity": 0.2
             }
            },
            "type": "barpolar"
           }
          ],
          "carpet": [
           {
            "aaxis": {
             "endlinecolor": "#2a3f5f",
             "gridcolor": "white",
             "linecolor": "white",
             "minorgridcolor": "white",
             "startlinecolor": "#2a3f5f"
            },
            "baxis": {
             "endlinecolor": "#2a3f5f",
             "gridcolor": "white",
             "linecolor": "white",
             "minorgridcolor": "white",
             "startlinecolor": "#2a3f5f"
            },
            "type": "carpet"
           }
          ],
          "choropleth": [
           {
            "colorbar": {
             "outlinewidth": 0,
             "ticks": ""
            },
            "type": "choropleth"
           }
          ],
          "contour": [
           {
            "colorbar": {
             "outlinewidth": 0,
             "ticks": ""
            },
            "colorscale": [
             [
              0,
              "#0d0887"
             ],
             [
              0.1111111111111111,
              "#46039f"
             ],
             [
              0.2222222222222222,
              "#7201a8"
             ],
             [
              0.3333333333333333,
              "#9c179e"
             ],
             [
              0.4444444444444444,
              "#bd3786"
             ],
             [
              0.5555555555555556,
              "#d8576b"
             ],
             [
              0.6666666666666666,
              "#ed7953"
             ],
             [
              0.7777777777777778,
              "#fb9f3a"
             ],
             [
              0.8888888888888888,
              "#fdca26"
             ],
             [
              1,
              "#f0f921"
             ]
            ],
            "type": "contour"
           }
          ],
          "contourcarpet": [
           {
            "colorbar": {
             "outlinewidth": 0,
             "ticks": ""
            },
            "type": "contourcarpet"
           }
          ],
          "heatmap": [
           {
            "colorbar": {
             "outlinewidth": 0,
             "ticks": ""
            },
            "colorscale": [
             [
              0,
              "#0d0887"
             ],
             [
              0.1111111111111111,
              "#46039f"
             ],
             [
              0.2222222222222222,
              "#7201a8"
             ],
             [
              0.3333333333333333,
              "#9c179e"
             ],
             [
              0.4444444444444444,
              "#bd3786"
             ],
             [
              0.5555555555555556,
              "#d8576b"
             ],
             [
              0.6666666666666666,
              "#ed7953"
             ],
             [
              0.7777777777777778,
              "#fb9f3a"
             ],
             [
              0.8888888888888888,
              "#fdca26"
             ],
             [
              1,
              "#f0f921"
             ]
            ],
            "type": "heatmap"
           }
          ],
          "heatmapgl": [
           {
            "colorbar": {
             "outlinewidth": 0,
             "ticks": ""
            },
            "colorscale": [
             [
              0,
              "#0d0887"
             ],
             [
              0.1111111111111111,
              "#46039f"
             ],
             [
              0.2222222222222222,
              "#7201a8"
             ],
             [
              0.3333333333333333,
              "#9c179e"
             ],
             [
              0.4444444444444444,
              "#bd3786"
             ],
             [
              0.5555555555555556,
              "#d8576b"
             ],
             [
              0.6666666666666666,
              "#ed7953"
             ],
             [
              0.7777777777777778,
              "#fb9f3a"
             ],
             [
              0.8888888888888888,
              "#fdca26"
             ],
             [
              1,
              "#f0f921"
             ]
            ],
            "type": "heatmapgl"
           }
          ],
          "histogram": [
           {
            "marker": {
             "pattern": {
              "fillmode": "overlay",
              "size": 10,
              "solidity": 0.2
             }
            },
            "type": "histogram"
           }
          ],
          "histogram2d": [
           {
            "colorbar": {
             "outlinewidth": 0,
             "ticks": ""
            },
            "colorscale": [
             [
              0,
              "#0d0887"
             ],
             [
              0.1111111111111111,
              "#46039f"
             ],
             [
              0.2222222222222222,
              "#7201a8"
             ],
             [
              0.3333333333333333,
              "#9c179e"
             ],
             [
              0.4444444444444444,
              "#bd3786"
             ],
             [
              0.5555555555555556,
              "#d8576b"
             ],
             [
              0.6666666666666666,
              "#ed7953"
             ],
             [
              0.7777777777777778,
              "#fb9f3a"
             ],
             [
              0.8888888888888888,
              "#fdca26"
             ],
             [
              1,
              "#f0f921"
             ]
            ],
            "type": "histogram2d"
           }
          ],
          "histogram2dcontour": [
           {
            "colorbar": {
             "outlinewidth": 0,
             "ticks": ""
            },
            "colorscale": [
             [
              0,
              "#0d0887"
             ],
             [
              0.1111111111111111,
              "#46039f"
             ],
             [
              0.2222222222222222,
              "#7201a8"
             ],
             [
              0.3333333333333333,
              "#9c179e"
             ],
             [
              0.4444444444444444,
              "#bd3786"
             ],
             [
              0.5555555555555556,
              "#d8576b"
             ],
             [
              0.6666666666666666,
              "#ed7953"
             ],
             [
              0.7777777777777778,
              "#fb9f3a"
             ],
             [
              0.8888888888888888,
              "#fdca26"
             ],
             [
              1,
              "#f0f921"
             ]
            ],
            "type": "histogram2dcontour"
           }
          ],
          "mesh3d": [
           {
            "colorbar": {
             "outlinewidth": 0,
             "ticks": ""
            },
            "type": "mesh3d"
           }
          ],
          "parcoords": [
           {
            "line": {
             "colorbar": {
              "outlinewidth": 0,
              "ticks": ""
             }
            },
            "type": "parcoords"
           }
          ],
          "pie": [
           {
            "automargin": true,
            "type": "pie"
           }
          ],
          "scatter": [
           {
            "fillpattern": {
             "fillmode": "overlay",
             "size": 10,
             "solidity": 0.2
            },
            "type": "scatter"
           }
          ],
          "scatter3d": [
           {
            "line": {
             "colorbar": {
              "outlinewidth": 0,
              "ticks": ""
             }
            },
            "marker": {
             "colorbar": {
              "outlinewidth": 0,
              "ticks": ""
             }
            },
            "type": "scatter3d"
           }
          ],
          "scattercarpet": [
           {
            "marker": {
             "colorbar": {
              "outlinewidth": 0,
              "ticks": ""
             }
            },
            "type": "scattercarpet"
           }
          ],
          "scattergeo": [
           {
            "marker": {
             "colorbar": {
              "outlinewidth": 0,
              "ticks": ""
             }
            },
            "type": "scattergeo"
           }
          ],
          "scattergl": [
           {
            "marker": {
             "colorbar": {
              "outlinewidth": 0,
              "ticks": ""
             }
            },
            "type": "scattergl"
           }
          ],
          "scattermapbox": [
           {
            "marker": {
             "colorbar": {
              "outlinewidth": 0,
              "ticks": ""
             }
            },
            "type": "scattermapbox"
           }
          ],
          "scatterpolar": [
           {
            "marker": {
             "colorbar": {
              "outlinewidth": 0,
              "ticks": ""
             }
            },
            "type": "scatterpolar"
           }
          ],
          "scatterpolargl": [
           {
            "marker": {
             "colorbar": {
              "outlinewidth": 0,
              "ticks": ""
             }
            },
            "type": "scatterpolargl"
           }
          ],
          "scatterternary": [
           {
            "marker": {
             "colorbar": {
              "outlinewidth": 0,
              "ticks": ""
             }
            },
            "type": "scatterternary"
           }
          ],
          "surface": [
           {
            "colorbar": {
             "outlinewidth": 0,
             "ticks": ""
            },
            "colorscale": [
             [
              0,
              "#0d0887"
             ],
             [
              0.1111111111111111,
              "#46039f"
             ],
             [
              0.2222222222222222,
              "#7201a8"
             ],
             [
              0.3333333333333333,
              "#9c179e"
             ],
             [
              0.4444444444444444,
              "#bd3786"
             ],
             [
              0.5555555555555556,
              "#d8576b"
             ],
             [
              0.6666666666666666,
              "#ed7953"
             ],
             [
              0.7777777777777778,
              "#fb9f3a"
             ],
             [
              0.8888888888888888,
              "#fdca26"
             ],
             [
              1,
              "#f0f921"
             ]
            ],
            "type": "surface"
           }
          ],
          "table": [
           {
            "cells": {
             "fill": {
              "color": "#EBF0F8"
             },
             "line": {
              "color": "white"
             }
            },
            "header": {
             "fill": {
              "color": "#C8D4E3"
             },
             "line": {
              "color": "white"
             }
            },
            "type": "table"
           }
          ]
         },
         "layout": {
          "annotationdefaults": {
           "arrowcolor": "#2a3f5f",
           "arrowhead": 0,
           "arrowwidth": 1
          },
          "autotypenumbers": "strict",
          "coloraxis": {
           "colorbar": {
            "outlinewidth": 0,
            "ticks": ""
           }
          },
          "colorscale": {
           "diverging": [
            [
             0,
             "#8e0152"
            ],
            [
             0.1,
             "#c51b7d"
            ],
            [
             0.2,
             "#de77ae"
            ],
            [
             0.3,
             "#f1b6da"
            ],
            [
             0.4,
             "#fde0ef"
            ],
            [
             0.5,
             "#f7f7f7"
            ],
            [
             0.6,
             "#e6f5d0"
            ],
            [
             0.7,
             "#b8e186"
            ],
            [
             0.8,
             "#7fbc41"
            ],
            [
             0.9,
             "#4d9221"
            ],
            [
             1,
             "#276419"
            ]
           ],
           "sequential": [
            [
             0,
             "#0d0887"
            ],
            [
             0.1111111111111111,
             "#46039f"
            ],
            [
             0.2222222222222222,
             "#7201a8"
            ],
            [
             0.3333333333333333,
             "#9c179e"
            ],
            [
             0.4444444444444444,
             "#bd3786"
            ],
            [
             0.5555555555555556,
             "#d8576b"
            ],
            [
             0.6666666666666666,
             "#ed7953"
            ],
            [
             0.7777777777777778,
             "#fb9f3a"
            ],
            [
             0.8888888888888888,
             "#fdca26"
            ],
            [
             1,
             "#f0f921"
            ]
           ],
           "sequentialminus": [
            [
             0,
             "#0d0887"
            ],
            [
             0.1111111111111111,
             "#46039f"
            ],
            [
             0.2222222222222222,
             "#7201a8"
            ],
            [
             0.3333333333333333,
             "#9c179e"
            ],
            [
             0.4444444444444444,
             "#bd3786"
            ],
            [
             0.5555555555555556,
             "#d8576b"
            ],
            [
             0.6666666666666666,
             "#ed7953"
            ],
            [
             0.7777777777777778,
             "#fb9f3a"
            ],
            [
             0.8888888888888888,
             "#fdca26"
            ],
            [
             1,
             "#f0f921"
            ]
           ]
          },
          "colorway": [
           "#636efa",
           "#EF553B",
           "#00cc96",
           "#ab63fa",
           "#FFA15A",
           "#19d3f3",
           "#FF6692",
           "#B6E880",
           "#FF97FF",
           "#FECB52"
          ],
          "font": {
           "color": "#2a3f5f"
          },
          "geo": {
           "bgcolor": "white",
           "lakecolor": "white",
           "landcolor": "#E5ECF6",
           "showlakes": true,
           "showland": true,
           "subunitcolor": "white"
          },
          "hoverlabel": {
           "align": "left"
          },
          "hovermode": "closest",
          "mapbox": {
           "style": "light"
          },
          "paper_bgcolor": "white",
          "plot_bgcolor": "#E5ECF6",
          "polar": {
           "angularaxis": {
            "gridcolor": "white",
            "linecolor": "white",
            "ticks": ""
           },
           "bgcolor": "#E5ECF6",
           "radialaxis": {
            "gridcolor": "white",
            "linecolor": "white",
            "ticks": ""
           }
          },
          "scene": {
           "xaxis": {
            "backgroundcolor": "#E5ECF6",
            "gridcolor": "white",
            "gridwidth": 2,
            "linecolor": "white",
            "showbackground": true,
            "ticks": "",
            "zerolinecolor": "white"
           },
           "yaxis": {
            "backgroundcolor": "#E5ECF6",
            "gridcolor": "white",
            "gridwidth": 2,
            "linecolor": "white",
            "showbackground": true,
            "ticks": "",
            "zerolinecolor": "white"
           },
           "zaxis": {
            "backgroundcolor": "#E5ECF6",
            "gridcolor": "white",
            "gridwidth": 2,
            "linecolor": "white",
            "showbackground": true,
            "ticks": "",
            "zerolinecolor": "white"
           }
          },
          "shapedefaults": {
           "line": {
            "color": "#2a3f5f"
           }
          },
          "ternary": {
           "aaxis": {
            "gridcolor": "white",
            "linecolor": "white",
            "ticks": ""
           },
           "baxis": {
            "gridcolor": "white",
            "linecolor": "white",
            "ticks": ""
           },
           "bgcolor": "#E5ECF6",
           "caxis": {
            "gridcolor": "white",
            "linecolor": "white",
            "ticks": ""
           }
          },
          "title": {
           "x": 0.05
          },
          "xaxis": {
           "automargin": true,
           "gridcolor": "white",
           "linecolor": "white",
           "ticks": "",
           "title": {
            "standoff": 15
           },
           "zerolinecolor": "white",
           "zerolinewidth": 2
          },
          "yaxis": {
           "automargin": true,
           "gridcolor": "white",
           "linecolor": "white",
           "ticks": "",
           "title": {
            "standoff": 15
           },
           "zerolinecolor": "white",
           "zerolinewidth": 2
          }
         }
        },
        "title": {
         "text": "Top Violent Crimes in 2022 vs 2023 (Filtered, Consistent Categories)"
        },
        "xaxis": {
         "anchor": "y",
         "domain": [
          0,
          1
         ],
         "title": {
          "text": "Year"
         }
        },
        "yaxis": {
         "anchor": "x",
         "domain": [
          0,
          1
         ],
         "title": {
          "text": "Count"
         }
        }
       }
      }
     },
     "metadata": {},
     "output_type": "display_data"
    }
   ],
   "source": [
    "import pandas as pd\n",
    "import plotly.express as px\n",
    "\n",
    "# Define the top 4 subcategories based on 2022 data for violent crimes\n",
    "top_4_violent_offenses = ['ASLT2', 'ROBPAG', 'CARJCK', 'ROBPER']\n",
    "\n",
    "# Create 'Other' category for both years for violent crimes\n",
    "violent_counts_2022 = df_2022_filtered[df_2022_filtered['Crime_Category'] == 'Violent']['offense'].value_counts()\n",
    "violent_counts_2023 = df_2023_filtered[df_2023_filtered['Crime_Category'] == 'Violent']['offense'].value_counts()\n",
    "\n",
    "# Filter for the same top 4 subcategories for both years and sum the rest as \"Other\"\n",
    "violent_top_2022 = violent_counts_2022.loc[top_4_violent_offenses]\n",
    "violent_top_2023 = violent_counts_2023.loc[top_4_violent_offenses]\n",
    "\n",
    "violent_other_2022 = violent_counts_2022.sum() - violent_top_2022.sum()\n",
    "violent_other_2023 = violent_counts_2023.sum() - violent_top_2023.sum()\n",
    "\n",
    "# Prepare data for Violent Crimes plot\n",
    "violent_data = {\n",
    "    'Year': ['2022', '2022', '2022', '2022', '2022', '2023', '2023', '2023', '2023', '2023'],\n",
    "    'Offense': top_4_violent_offenses + ['Other'] + top_4_violent_offenses + ['Other'],\n",
    "    'Count': list(violent_top_2022.values) + [violent_other_2022] + list(violent_top_2023.values) + [violent_other_2023]\n",
    "}\n",
    "\n",
    "df_violent_data = pd.DataFrame(violent_data)\n",
    "\n",
    "# Plot for Violent Crimes\n",
    "fig_violent = px.bar(df_violent_data, x='Year', y='Count', color='Offense', barmode='group',\n",
    "             title='Top Violent Crimes in 2022 vs 2023 (Filtered, Consistent Categories)')\n",
    "fig_violent.show()\n",
    "\n",
    "# Repeat the same process for Non-Violent Crimes\n",
    "# Define the top 4 subcategories based on 2022 data for non-violent crimes\n",
    "top_4_non_violent_offenses = ['AUTOTH', 'TFMV', 'THEFT', 'TMVP']\n",
    "\n",
    "# Create 'Other' category for both years for non-violent crimes\n",
    "non_violent_counts_2022 = df_2022_filtered[df_2022_filtered['Crime_Category'] == 'Non-Violent']['offense'].value_counts()\n",
    "non_violent_counts_2023 = df_2023_filtered[df_2023_filtered['Crime_Category'] == 'Non-Violent']['offense'].value_counts()\n",
    "\n",
    "# Filter for the same top 4 subcategories for both years and sum the rest as \"Other\"\n",
    "non_violent_top_2022 = non_violent_counts_2022.loc[top_4_non_violent_offenses]\n",
    "non_violent_top_2023 = non_violent_counts_2023.loc[top_4_non_violent_offenses]\n",
    "\n",
    "non_violent_other_2022 = non_violent_counts_2022.sum() - non_violent_top_2022.sum()\n",
    "# Fix the variable name for non_violent_other_2023\n",
    "non_violent_other_2023 = non_violent_counts_2023.sum() - non_violent_top_2023.sum()\n",
    "\n"
   ]
  },
  {
   "cell_type": "code",
   "execution_count": 50,
   "metadata": {},
   "outputs": [
    {
     "name": "stdout",
     "output_type": "stream",
     "text": [
      "Violent Crime Table:\n",
      "  Offense                   Description Count 2022 Count 2023   % Change\n",
      "0   ASLT2  Assault in the second degree       1221       1195  -2.129402\n",
      "1  ROBPAG            Robbery with a gun        700        637       -9.0\n",
      "2  CARJCK                    Carjacking        518        300 -42.084942\n",
      "3  ROBPER              Personal robbery        445        395 -11.235955\n",
      "4   Other                Other offenses       1728       1718  -0.578704\n",
      "5                                                                       \n",
      "6                           Grand Total       4612       4245  -7.957502\n",
      "\n",
      "Non-Violent Crime Table:\n",
      "  Offense                   Description Count 2022 Count 2023   % Change\n",
      "0  AUTOTH                    Auto theft       6089       7694  26.359008\n",
      "1    TFMV      Theft from motor vehicle       3613       3682    1.90977\n",
      "2   THEFT                 General theft       3827       3552  -7.185785\n",
      "3    TMVP  Theft of motor vehicle parts       3238       1806  -44.22483\n",
      "4   Other                Other offenses       5147       5034  -2.195454\n",
      "5                                                                       \n",
      "6                           Grand Total      21914      21768  -0.666241\n"
     ]
    }
   ],
   "source": [
    "import pandas as pd\n",
    "\n",
    "# Offense descriptions (example, modify as needed)\n",
    "offense_descriptions = {\n",
    "    'ASLT2': 'Assault in the second degree',\n",
    "    'ROBPAG': 'Robbery with a gun',\n",
    "    'CARJCK': 'Carjacking',\n",
    "    'ROBPER': 'Personal robbery',\n",
    "    'AUTOTH': 'Auto theft',\n",
    "    'TFMV': 'Theft from motor vehicle',\n",
    "    'THEFT': 'General theft',\n",
    "    'TMVP': 'Theft of motor vehicle parts',\n",
    "    'Other': 'Other offenses'\n",
    "}\n",
    "\n",
    "# Create a function to generate the desired output for both violent and non-violent crimes\n",
    "def create_crime_table(counts_2022, counts_2023, top_offenses, offense_type):\n",
    "    # Filter for the same top 4 subcategories for both years and sum the rest as \"Other\"\n",
    "    top_2022 = counts_2022.loc[top_offenses]\n",
    "    top_2023 = counts_2023.loc[top_offenses]\n",
    "\n",
    "    other_2022 = counts_2022.sum() - top_2022.sum()\n",
    "    other_2023 = counts_2023.sum() - top_2023.sum()\n",
    "\n",
    "    # Prepare data for output table\n",
    "    data = {\n",
    "        'Offense': top_offenses + ['Other'],\n",
    "        'Description': [offense_descriptions.get(off, 'Unknown') for off in top_offenses] + ['Other offenses'],\n",
    "        'Count 2022': list(top_2022.values) + [other_2022],\n",
    "        'Count 2023': list(top_2023.values) + [other_2023]\n",
    "    }\n",
    "\n",
    "    # Calculate percentage change\n",
    "    data['% Change'] = [(data['Count 2023'][i] - data['Count 2022'][i]) / data['Count 2022'][i] * 100\n",
    "                        if data['Count 2022'][i] > 0 else 0 for i in range(len(data['Count 2022']))]\n",
    "\n",
    "    # Convert to DataFrame\n",
    "    df = pd.DataFrame(data)\n",
    "\n",
    "    # Calculate grand totals\n",
    "    total_2022 = df['Count 2022'].sum()\n",
    "    total_2023 = df['Count 2023'].sum()\n",
    "    total_change = (total_2023 - total_2022) / total_2022 * 100 if total_2022 > 0 else 0\n",
    "\n",
    "    # Add grand totals as a row, separated by a blank line\n",
    "    total_row = pd.DataFrame({\n",
    "        'Offense': [''],\n",
    "        'Description': ['Grand Total'],\n",
    "        'Count 2022': [total_2022],\n",
    "        'Count 2023': [total_2023],\n",
    "        '% Change': [total_change]\n",
    "    })\n",
    "\n",
    "    df = pd.concat([df, pd.DataFrame([{'Offense': '', 'Description': '', 'Count 2022': '', 'Count 2023': '', '% Change': ''}]), total_row], ignore_index=True)\n",
    "\n",
    "    return df\n",
    "\n",
    "# Generate tables for violent and non-violent crimes\n",
    "violent_crime_table = create_crime_table(violent_counts_2022, violent_counts_2023, top_4_violent_offenses, 'Violent')\n",
    "non_violent_crime_table = create_crime_table(non_violent_counts_2022, non_violent_counts_2023, top_4_non_violent_offenses, 'Non-Violent')\n",
    "\n",
    "# Display the tables\n",
    "print(\"Violent Crime Table:\")\n",
    "print(violent_crime_table)\n",
    "\n",
    "print(\"\\nNon-Violent Crime Table:\")\n",
    "print(non_violent_crime_table)\n"
   ]
  },
  {
   "cell_type": "code",
   "execution_count": 29,
   "metadata": {},
   "outputs": [
    {
     "name": "stdout",
     "output_type": "stream",
     "text": [
      "Violent crimes in 2022 (before April 23): 1182\n",
      "Violent crimes in 2023 (before April 23): 1071\n",
      "Non-violent crimes in 2022 (before April 23): 5699\n",
      "Non-violent crimes in 2023 (before April 23): 6524\n",
      "Percentage change in violent crimes from 2022 to 2023: -9.39%\n",
      "Percentage change in non-violent crimes from 2022 to 2023: 14.48%\n"
     ]
    }
   ],
   "source": []
  },
  {
   "cell_type": "code",
   "execution_count": 55,
   "metadata": {},
   "outputs": [
    {
     "name": "stdout",
     "output_type": "stream",
     "text": [
      "Violent Crime Table:\n",
      "   Offense                               Description  2022  2023  Change (%)\n",
      "0    ASLT2              Assault in the second degree   287   298    3.832753\n",
      "1   ROBPAG                        Robbery with a gun   159   140  -11.949686\n",
      "2   CARJCK                                Carjacking   152    91  -40.131579\n",
      "3   DASLT2     Domestic assault in the second degree   121   107  -11.570248\n",
      "4    DASTR  Domestic assault involving strangulation   113   125   10.619469\n",
      "5   ROBPER                          Personal robbery    94    92   -2.127660\n",
      "6     CSCR              Criminal sexual conduct/rape    86    89    3.488372\n",
      "7    ASLT3               Assault in the third degree    52    36  -30.769231\n",
      "8   ROBBIZ                     Robbery of a business    46    19  -58.695652\n",
      "9    MURDR                                    Murder    22    15  -31.818182\n",
      "10   ASLT4              Assault in the fourth degree    19    28   47.368421\n",
      "11  DASLT3                                   Unknown    18    28   55.555556\n",
      "12   ASLT1                                   Unknown     9     3  -66.666667\n",
      "13  ABSVAR                                   Unknown     2     0 -100.000000\n",
      "14  JHOMIC                                   Unknown     2     0 -100.000000\n",
      "15   Total                     Overall Violent Crime  1182  1071   -9.390863\n",
      "\n",
      "Non-Violent Crime Table:\n",
      "   Offense                   Description  2022  2023  Change (%)\n",
      "0   AUTOTH                    Auto theft  1396  2959  111.962751\n",
      "1     TMVP  Theft of motor vehicle parts  1309   623  -52.406417\n",
      "2    THEFT                 General theft  1047   900  -14.040115\n",
      "3     TFMV      Theft from motor vehicle   837   946   13.022700\n",
      "4    BURGD        Burglary of a dwelling   334   353    5.688623\n",
      "5    BURGB        Burglary of a business   258   276    6.976744\n",
      "6   BIKETF                 Bicycle theft   170    96  -43.529412\n",
      "7   SHOPLF                   Shoplifting   116   143   23.275862\n",
      "8   THFTSW             Theft of services    99   119   20.202020\n",
      "9    TFPER             Theft from person    45    27  -40.000000\n",
      "10   TBLDG                       Unknown    42    25  -40.476190\n",
      "11   ARSON                       Unknown    26    32   23.076923\n",
      "12  ONLTHT                       Unknown     9    11   22.222222\n",
      "13  MVTHFT                       Unknown     4     3  -25.000000\n",
      "14  WLKOFF                       Unknown     4     6   50.000000\n",
      "15   PETIT                       Unknown     2     2    0.000000\n",
      "16  COMPUT                       Unknown     1     2  100.000000\n",
      "17  COINOP                       Unknown     0     1    0.000000\n",
      "18   Total     Overall Non-Violent Crime  5699  6524   14.476224\n"
     ]
    }
   ],
   "source": [
    "import pandas as pd\n",
    "\n",
    "# Define violent and non-violent offenses\n",
    "violent_offenses = ['ASLT1', 'ASLT2', 'ASLT3', 'ASLT4', 'CSCR', 'DASLT1', 'DASLT2', 'DASLT3', 'DASTR', \n",
    "                    'CARJCK', 'ROBBIZ', 'ROBPAG', 'ROBPER', 'MURDR', 'JHOMIC', 'ABSVAR']\n",
    "non_violent_offenses = ['AUTOTH', 'BIKETF', 'BURGB', 'BURGD', 'SHOPLF', 'TFMV', 'TMVP', 'THEFT', 'THFTSW', \n",
    "                        'TFPER', 'TBLDG', 'ARSON', 'ONLTHT', 'MVTHFT', 'WLKOFF', 'COMPUT', 'PETIT', 'COINOP']\n",
    "\n",
    "# Function to create crime table filtered by crime category (violent or non-violent) and sorted by 2022 counts\n",
    "def create_crime_table(df_2022, df_2023, offenses, description):\n",
    "    counts_2022 = df_2022[df_2022['offense'].isin(offenses)]['offense'].value_counts()\n",
    "    counts_2023 = df_2023[df_2023['offense'].isin(offenses)]['offense'].value_counts()\n",
    "\n",
    "    # Create a table for the given offenses\n",
    "    offense_list = sorted(set(counts_2022.index).union(set(counts_2023.index)))\n",
    "\n",
    "    data = {\n",
    "        'Offense': offense_list,\n",
    "        'Description': [offense_descriptions.get(off, 'Unknown') for off in offense_list],\n",
    "        '2022': [counts_2022.get(off, 0) for off in offense_list],\n",
    "        '2023': [counts_2023.get(off, 0) for off in offense_list]\n",
    "    }\n",
    "\n",
    "    # Calculate percentage change\n",
    "    data['Change (%)'] = [(data['2023'][i] - data['2022'][i]) / data['2022'][i] * 100 if data['2022'][i] > 0 else 0 for i in range(len(data['2022']))]\n",
    "\n",
    "    # Convert to DataFrame\n",
    "    df_table = pd.DataFrame(data)\n",
    "\n",
    "    # Sort by 2022 counts in descending order\n",
    "    df_table = df_table.sort_values(by='2022', ascending=False).reset_index(drop=True)\n",
    "\n",
    "    # Add overall total row at the bottom\n",
    "    total_row = pd.DataFrame({\n",
    "        'Offense': ['Total'],\n",
    "        'Description': [description],\n",
    "        '2022': [counts_2022.sum()],\n",
    "        '2023': [counts_2023.sum()],\n",
    "        'Change (%)': [(counts_2023.sum() - counts_2022.sum()) / counts_2022.sum() * 100 if counts_2022.sum() > 0 else 0]\n",
    "    })\n",
    "\n",
    "    # Concatenate with the total row\n",
    "    df_table = pd.concat([df_table, total_row], ignore_index=True)\n",
    "    \n",
    "    return df_table\n",
    "\n",
    "# Create tables for violent and non-violent crimes\n",
    "violent_crime_table = create_crime_table(df_2022_filtered, df_2023_filtered, violent_offenses, 'Overall Violent Crime')\n",
    "non_violent_crime_table = create_crime_table(df_2022_filtered, df_2023_filtered, non_violent_offenses, 'Overall Non-Violent Crime')\n",
    "\n",
    "# Display the tables\n",
    "print(\"Violent Crime Table:\")\n",
    "print(violent_crime_table)\n",
    "\n",
    "print(\"\\nNon-Violent Crime Table:\")\n",
    "print(non_violent_crime_table)\n"
   ]
  },
  {
   "cell_type": "code",
   "execution_count": null,
   "metadata": {},
   "outputs": [],
   "source": []
  }
 ],
 "metadata": {
  "kernelspec": {
   "display_name": "dsci",
   "language": "python",
   "name": "python3"
  },
  "language_info": {
   "codemirror_mode": {
    "name": "ipython",
    "version": 3
   },
   "file_extension": ".py",
   "mimetype": "text/x-python",
   "name": "python",
   "nbconvert_exporter": "python",
   "pygments_lexer": "ipython3",
   "version": "3.11.9"
  }
 },
 "nbformat": 4,
 "nbformat_minor": 2
}
